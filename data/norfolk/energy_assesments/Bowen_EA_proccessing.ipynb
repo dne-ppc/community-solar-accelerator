{
 "cells": [
  {
   "cell_type": "markdown",
   "id": "ed5c4e7e",
   "metadata": {},
   "source": [
    "# Norfolk processing Bowen \n",
    "\n",
    "Bases on [Energy Assement]('SPG- EA24-05927 Bowen Energy Audit Report_Final.pdf')"
   ]
  },
  {
   "cell_type": "markdown",
   "id": "4cc0d840",
   "metadata": {
    "vscode": {
     "languageId": "plaintext"
    }
   },
   "source": [
    "## Electricity"
   ]
  },
  {
   "cell_type": "code",
   "execution_count": 4,
   "id": "a0ae53bb",
   "metadata": {},
   "outputs": [
    {
     "data": {
      "text/html": [
       "<div>\n",
       "<style scoped>\n",
       "    .dataframe tbody tr th:only-of-type {\n",
       "        vertical-align: middle;\n",
       "    }\n",
       "\n",
       "    .dataframe tbody tr th {\n",
       "        vertical-align: top;\n",
       "    }\n",
       "\n",
       "    .dataframe thead th {\n",
       "        text-align: right;\n",
       "    }\n",
       "</style>\n",
       "<table border=\"1\" class=\"dataframe\">\n",
       "  <thead>\n",
       "    <tr style=\"text-align: right;\">\n",
       "      <th></th>\n",
       "      <th>year</th>\n",
       "      <th>month</th>\n",
       "      <th>cost</th>\n",
       "      <th>kwh</th>\n",
       "      <th>month_number</th>\n",
       "      <th>cost_fixed</th>\n",
       "      <th>kwh_fixed</th>\n",
       "      <th>cost_per_kwh_fixed</th>\n",
       "      <th>year_str</th>\n",
       "    </tr>\n",
       "  </thead>\n",
       "  <tbody>\n",
       "    <tr>\n",
       "      <th>0</th>\n",
       "      <td>2023</td>\n",
       "      <td>June</td>\n",
       "      <td>1791</td>\n",
       "      <td>9522</td>\n",
       "      <td>6</td>\n",
       "      <td>1791.0</td>\n",
       "      <td>9522.0</td>\n",
       "      <td>0.188091</td>\n",
       "      <td>2023</td>\n",
       "    </tr>\n",
       "    <tr>\n",
       "      <th>1</th>\n",
       "      <td>2023</td>\n",
       "      <td>July</td>\n",
       "      <td>1717</td>\n",
       "      <td>10238</td>\n",
       "      <td>7</td>\n",
       "      <td>1717.0</td>\n",
       "      <td>10238.0</td>\n",
       "      <td>0.167709</td>\n",
       "      <td>2023</td>\n",
       "    </tr>\n",
       "    <tr>\n",
       "      <th>2</th>\n",
       "      <td>2023</td>\n",
       "      <td>August</td>\n",
       "      <td>1984</td>\n",
       "      <td>9977</td>\n",
       "      <td>8</td>\n",
       "      <td>1984.0</td>\n",
       "      <td>9977.0</td>\n",
       "      <td>0.198857</td>\n",
       "      <td>2023</td>\n",
       "    </tr>\n",
       "    <tr>\n",
       "      <th>3</th>\n",
       "      <td>2023</td>\n",
       "      <td>September</td>\n",
       "      <td>642</td>\n",
       "      <td>10285</td>\n",
       "      <td>9</td>\n",
       "      <td>1668.5</td>\n",
       "      <td>9469.0</td>\n",
       "      <td>0.176207</td>\n",
       "      <td>2023</td>\n",
       "    </tr>\n",
       "    <tr>\n",
       "      <th>4</th>\n",
       "      <td>2023</td>\n",
       "      <td>October</td>\n",
       "      <td>2695</td>\n",
       "      <td>8653</td>\n",
       "      <td>10</td>\n",
       "      <td>1668.5</td>\n",
       "      <td>9469.0</td>\n",
       "      <td>0.176207</td>\n",
       "      <td>2023</td>\n",
       "    </tr>\n",
       "    <tr>\n",
       "      <th>5</th>\n",
       "      <td>2023</td>\n",
       "      <td>November</td>\n",
       "      <td>1579</td>\n",
       "      <td>8102</td>\n",
       "      <td>11</td>\n",
       "      <td>1579.0</td>\n",
       "      <td>8102.0</td>\n",
       "      <td>0.194890</td>\n",
       "      <td>2023</td>\n",
       "    </tr>\n",
       "    <tr>\n",
       "      <th>6</th>\n",
       "      <td>2023</td>\n",
       "      <td>December</td>\n",
       "      <td>1635</td>\n",
       "      <td>9300</td>\n",
       "      <td>12</td>\n",
       "      <td>1635.0</td>\n",
       "      <td>9300.0</td>\n",
       "      <td>0.175806</td>\n",
       "      <td>2023</td>\n",
       "    </tr>\n",
       "    <tr>\n",
       "      <th>8</th>\n",
       "      <td>2024</td>\n",
       "      <td>January</td>\n",
       "      <td>2038</td>\n",
       "      <td>11234</td>\n",
       "      <td>1</td>\n",
       "      <td>2038.0</td>\n",
       "      <td>11234.0</td>\n",
       "      <td>0.181414</td>\n",
       "      <td>2024</td>\n",
       "    </tr>\n",
       "    <tr>\n",
       "      <th>9</th>\n",
       "      <td>2024</td>\n",
       "      <td>February</td>\n",
       "      <td>1513</td>\n",
       "      <td>8554</td>\n",
       "      <td>2</td>\n",
       "      <td>1513.0</td>\n",
       "      <td>8554.0</td>\n",
       "      <td>0.176876</td>\n",
       "      <td>2024</td>\n",
       "    </tr>\n",
       "    <tr>\n",
       "      <th>10</th>\n",
       "      <td>2024</td>\n",
       "      <td>March</td>\n",
       "      <td>1610</td>\n",
       "      <td>10131</td>\n",
       "      <td>3</td>\n",
       "      <td>1610.0</td>\n",
       "      <td>10131.0</td>\n",
       "      <td>0.158918</td>\n",
       "      <td>2024</td>\n",
       "    </tr>\n",
       "    <tr>\n",
       "      <th>11</th>\n",
       "      <td>2024</td>\n",
       "      <td>April</td>\n",
       "      <td>1429</td>\n",
       "      <td>8379</td>\n",
       "      <td>4</td>\n",
       "      <td>1429.0</td>\n",
       "      <td>8379.0</td>\n",
       "      <td>0.170545</td>\n",
       "      <td>2024</td>\n",
       "    </tr>\n",
       "    <tr>\n",
       "      <th>12</th>\n",
       "      <td>2024</td>\n",
       "      <td>May</td>\n",
       "      <td>1417</td>\n",
       "      <td>8620</td>\n",
       "      <td>5</td>\n",
       "      <td>1417.0</td>\n",
       "      <td>8620.0</td>\n",
       "      <td>0.164385</td>\n",
       "      <td>2024</td>\n",
       "    </tr>\n",
       "    <tr>\n",
       "      <th>13</th>\n",
       "      <td>2024</td>\n",
       "      <td>June</td>\n",
       "      <td>1361</td>\n",
       "      <td>7631</td>\n",
       "      <td>6</td>\n",
       "      <td>1361.0</td>\n",
       "      <td>7631.0</td>\n",
       "      <td>0.178351</td>\n",
       "      <td>2024</td>\n",
       "    </tr>\n",
       "  </tbody>\n",
       "</table>\n",
       "</div>"
      ],
      "text/plain": [
       "    year      month  cost    kwh  month_number  cost_fixed  kwh_fixed  \\\n",
       "0   2023       June  1791   9522             6      1791.0     9522.0   \n",
       "1   2023       July  1717  10238             7      1717.0    10238.0   \n",
       "2   2023     August  1984   9977             8      1984.0     9977.0   \n",
       "3   2023  September   642  10285             9      1668.5     9469.0   \n",
       "4   2023    October  2695   8653            10      1668.5     9469.0   \n",
       "5   2023   November  1579   8102            11      1579.0     8102.0   \n",
       "6   2023   December  1635   9300            12      1635.0     9300.0   \n",
       "8   2024    January  2038  11234             1      2038.0    11234.0   \n",
       "9   2024   February  1513   8554             2      1513.0     8554.0   \n",
       "10  2024      March  1610  10131             3      1610.0    10131.0   \n",
       "11  2024      April  1429   8379             4      1429.0     8379.0   \n",
       "12  2024        May  1417   8620             5      1417.0     8620.0   \n",
       "13  2024       June  1361   7631             6      1361.0     7631.0   \n",
       "\n",
       "    cost_per_kwh_fixed year_str  \n",
       "0             0.188091     2023  \n",
       "1             0.167709     2023  \n",
       "2             0.198857     2023  \n",
       "3             0.176207     2023  \n",
       "4             0.176207     2023  \n",
       "5             0.194890     2023  \n",
       "6             0.175806     2023  \n",
       "8             0.181414     2024  \n",
       "9             0.176876     2024  \n",
       "10            0.158918     2024  \n",
       "11            0.170545     2024  \n",
       "12            0.164385     2024  \n",
       "13            0.178351     2024  "
      ]
     },
     "execution_count": 4,
     "metadata": {},
     "output_type": "execute_result"
    }
   ],
   "source": [
    "import pandas as pd\n",
    "\n",
    "# 1. Read the CSV\n",
    "df = pd.read_csv('Bowen_EA_ElectricConsumption.csv')\n",
    "\n",
    "# 2. Drop any 'Total' rows\n",
    "df = df[df['month'].str.lower() != 'total'].copy()\n",
    "\n",
    "# 3. Map month names to numbers\n",
    "month_map = {\n",
    "    'January':   1, 'February':  2, 'March':     3, 'April':    4,\n",
    "    'May':       5, 'June':      6, 'July':      7, 'August':   8,\n",
    "    'September': 9, 'October':  10, 'November': 11, 'December':12\n",
    "}\n",
    "df['month_number'] = df['month'].map(month_map)\n",
    "\n",
    "# 4. Ensure numeric types\n",
    "df[['year','cost','kwh']] = df[['year','cost','kwh']].apply(pd.to_numeric)\n",
    "\n",
    "# 5. Compute the Sept & Oct 2023 average\n",
    "mask = (df['year'] == 2023) & (df['month_number'].isin([9, 10]))\n",
    "n_months = mask.sum()                      # should be 2\n",
    "cost_sum = df.loc[mask, 'cost'].sum()\n",
    "kwh_sum  = df.loc[mask, 'kwh'].sum()\n",
    "\n",
    "cost_fixed_val = cost_sum / n_months       # avg CAD/month\n",
    "kwh_fixed_val  = kwh_sum  / n_months       # avg kWh/month\n",
    "\n",
    "# 6. Broadcast those averages into new columns\n",
    "df.loc[mask,'cost_fixed'] = cost_fixed_val\n",
    "df.loc[mask,'kwh_fixed']  = kwh_fixed_val\n",
    "\n",
    "df['cost_fixed'] = df['cost_fixed'].fillna(df.cost)\n",
    "df['kwh_fixed'] = df['kwh_fixed'].fillna(df.kwh)\n",
    "\n",
    "# 7. (Re)compute cost_per_kwh from the fixed baseline\n",
    "df['cost_per_kwh_fixed'] = df['cost_fixed'] / df['kwh_fixed']\n",
    "\n",
    "df['year_str'] = df['year'].astype(str)  # Convert year to string for coloring\n",
    "\n",
    "\n",
    "# 8. Inspect & save\n",
    "df.to_csv('Bowen_EA_ElectricConsumption_processed.csv', index=False)\n",
    "df\n"
   ]
  },
  {
   "cell_type": "code",
   "execution_count": 10,
   "id": "99d6b2b4",
   "metadata": {},
   "outputs": [],
   "source": [
    "import plotly.express as px\n",
    "\n",
    "\n",
    "\n",
    "def plot_monthly_by_year(\n",
    "    df,\n",
    "    y_col,\n",
    "    month_col: str = \"month_number\",\n",
    "    year_col: str = \"year_str\",\n",
    "    title: str = None,\n",
    "    n_stds: int = 2\n",
    "):\n",
    "    \"\"\"\n",
    "    Creates and shows a Plotly grouped bar chart of monthly values by year,\n",
    "    with horizontal lines marking the overall mean and ±1 standard deviation.\n",
    "    \n",
    "    Parameters:\n",
    "    - df: pandas DataFrame containing your data.\n",
    "    - y_col: column name for the values to plot on the y-axis.\n",
    "    - month_col: column name for month numbers (1–12).\n",
    "    - year_col: column name for the year (as string) used for color grouping.\n",
    "    - title: optional chart title.\n",
    "    \"\"\"\n",
    "    # Compute overall mean and standard deviation\n",
    "    mean_val = df[y_col].mean()\n",
    "    std_val  = df[y_col].std()\n",
    "    upper    = mean_val + std_val*n_stds\n",
    "    lower    = mean_val - std_val*n_stds\n",
    "\n",
    "    # Build the grouped bar chart\n",
    "    fig = px.bar(\n",
    "        df,\n",
    "        x=month_col,\n",
    "        y=y_col,\n",
    "        color=year_col,\n",
    "        labels={\n",
    "            month_col: \"Month\",\n",
    "            y_col: y_col.replace(\"_\", \" \").title(),\n",
    "            year_col: \"Year\"\n",
    "        },\n",
    "        title=title or f\"{y_col.replace('_', ' ').title()} by Month & Year\",\n",
    "        barmode=\"group\"\n",
    "    )\n",
    "\n",
    "    # Add horizontal lines for mean and ±1σ\n",
    "    fig.add_hline(\n",
    "        y=mean_val,\n",
    "        line_dash=\"dash\",\n",
    "        annotation_text=f\"Mean ({mean_val:.3f})\",\n",
    "        annotation_position=\"top left\"\n",
    "    )\n",
    "    fig.add_hline(\n",
    "        y=upper,\n",
    "        line_dash=\"dot\",\n",
    "        annotation_text=f\"+{n_stds}σ ({upper:.3f})\",\n",
    "        annotation_position=\"top right\"\n",
    "    )\n",
    "    fig.add_hline(\n",
    "        y=lower,\n",
    "        line_dash=\"dot\",\n",
    "        annotation_text=f\"-{n_stds}σ ({lower:.3f})\",\n",
    "        annotation_position=\"bottom right\"\n",
    "    )\n",
    "\n",
    "    # Use abbreviated month names on the x-axis\n",
    "    fig.update_layout(\n",
    "        xaxis=dict(\n",
    "            tickmode=\"array\",\n",
    "            tickvals=list(range(1, 13)),\n",
    "            ticktext=[\n",
    "                \"Jan\", \"Feb\", \"Mar\", \"Apr\", \"May\", \"Jun\",\n",
    "                \"Jul\", \"Aug\", \"Sep\", \"Oct\", \"Nov\", \"Dec\"\n",
    "            ]\n",
    "        )\n",
    "    )\n",
    "\n",
    "    fig.show()\n"
   ]
  },
  {
   "cell_type": "code",
   "execution_count": 11,
   "id": "ec749f7a",
   "metadata": {},
   "outputs": [
    {
     "data": {
      "application/vnd.plotly.v1+json": {
       "config": {
        "plotlyServerURL": "https://plot.ly"
       },
       "data": [
        {
         "alignmentgroup": "True",
         "hovertemplate": "Year=2023<br>Month=%{x}<br>Cost Per Kwh Fixed=%{y}<extra></extra>",
         "legendgroup": "2023",
         "marker": {
          "color": "#636efa",
          "pattern": {
           "shape": ""
          }
         },
         "name": "2023",
         "offsetgroup": "2023",
         "orientation": "v",
         "showlegend": true,
         "textposition": "auto",
         "type": "bar",
         "x": {
          "bdata": "BgcICQoLDA==",
          "dtype": "i1"
         },
         "xaxis": "x",
         "y": {
          "bdata": "MzaQdlsTyD9FbHUseXfFP/sFj4oodMk/z/Us1e+Nxj/P9SzV743GP3brhhMp8sg/gTYNaNOAxj8=",
          "dtype": "f8"
         },
         "yaxis": "y"
        },
        {
         "alignmentgroup": "True",
         "hovertemplate": "Year=2024<br>Month=%{x}<br>Cost Per Kwh Fixed=%{y}<extra></extra>",
         "legendgroup": "2024",
         "marker": {
          "color": "#EF553B",
          "pattern": {
           "shape": ""
          }
         },
         "name": "2024",
         "offsetgroup": "2024",
         "orientation": "v",
         "showlegend": true,
         "textposition": "auto",
         "type": "bar",
         "x": {
          "bdata": "AQIDBAUG",
          "dtype": "i1"
         },
         "xaxis": "x",
         "y": {
          "bdata": "Le1sSo84xz+KGI4S4qPGP5iVoD9uV8Q/kO+tmW7UxT/VyVeXkgrFP18QaH441MY/",
          "dtype": "f8"
         },
         "yaxis": "y"
        }
       ],
       "layout": {
        "annotations": [
         {
          "showarrow": false,
          "text": "Mean (0.178)",
          "x": 0,
          "xanchor": "left",
          "xref": "x domain",
          "y": 0.17755818938504359,
          "yanchor": "bottom",
          "yref": "y"
         },
         {
          "showarrow": false,
          "text": "+2σ (0.200)",
          "x": 1,
          "xanchor": "right",
          "xref": "x domain",
          "y": 0.20032396072090364,
          "yanchor": "bottom",
          "yref": "y"
         },
         {
          "showarrow": false,
          "text": "-2σ (0.155)",
          "x": 1,
          "xanchor": "right",
          "xref": "x domain",
          "y": 0.15479241804918353,
          "yanchor": "top",
          "yref": "y"
         }
        ],
        "barmode": "group",
        "legend": {
         "title": {
          "text": "Year"
         },
         "tracegroupgap": 0
        },
        "shapes": [
         {
          "line": {
           "dash": "dash"
          },
          "type": "line",
          "x0": 0,
          "x1": 1,
          "xref": "x domain",
          "y0": 0.17755818938504359,
          "y1": 0.17755818938504359,
          "yref": "y"
         },
         {
          "line": {
           "dash": "dot"
          },
          "type": "line",
          "x0": 0,
          "x1": 1,
          "xref": "x domain",
          "y0": 0.20032396072090364,
          "y1": 0.20032396072090364,
          "yref": "y"
         },
         {
          "line": {
           "dash": "dot"
          },
          "type": "line",
          "x0": 0,
          "x1": 1,
          "xref": "x domain",
          "y0": 0.15479241804918353,
          "y1": 0.15479241804918353,
          "yref": "y"
         }
        ],
        "template": {
         "data": {
          "bar": [
           {
            "error_x": {
             "color": "#2a3f5f"
            },
            "error_y": {
             "color": "#2a3f5f"
            },
            "marker": {
             "line": {
              "color": "#E5ECF6",
              "width": 0.5
             },
             "pattern": {
              "fillmode": "overlay",
              "size": 10,
              "solidity": 0.2
             }
            },
            "type": "bar"
           }
          ],
          "barpolar": [
           {
            "marker": {
             "line": {
              "color": "#E5ECF6",
              "width": 0.5
             },
             "pattern": {
              "fillmode": "overlay",
              "size": 10,
              "solidity": 0.2
             }
            },
            "type": "barpolar"
           }
          ],
          "carpet": [
           {
            "aaxis": {
             "endlinecolor": "#2a3f5f",
             "gridcolor": "white",
             "linecolor": "white",
             "minorgridcolor": "white",
             "startlinecolor": "#2a3f5f"
            },
            "baxis": {
             "endlinecolor": "#2a3f5f",
             "gridcolor": "white",
             "linecolor": "white",
             "minorgridcolor": "white",
             "startlinecolor": "#2a3f5f"
            },
            "type": "carpet"
           }
          ],
          "choropleth": [
           {
            "colorbar": {
             "outlinewidth": 0,
             "ticks": ""
            },
            "type": "choropleth"
           }
          ],
          "contour": [
           {
            "colorbar": {
             "outlinewidth": 0,
             "ticks": ""
            },
            "colorscale": [
             [
              0,
              "#0d0887"
             ],
             [
              0.1111111111111111,
              "#46039f"
             ],
             [
              0.2222222222222222,
              "#7201a8"
             ],
             [
              0.3333333333333333,
              "#9c179e"
             ],
             [
              0.4444444444444444,
              "#bd3786"
             ],
             [
              0.5555555555555556,
              "#d8576b"
             ],
             [
              0.6666666666666666,
              "#ed7953"
             ],
             [
              0.7777777777777778,
              "#fb9f3a"
             ],
             [
              0.8888888888888888,
              "#fdca26"
             ],
             [
              1,
              "#f0f921"
             ]
            ],
            "type": "contour"
           }
          ],
          "contourcarpet": [
           {
            "colorbar": {
             "outlinewidth": 0,
             "ticks": ""
            },
            "type": "contourcarpet"
           }
          ],
          "heatmap": [
           {
            "colorbar": {
             "outlinewidth": 0,
             "ticks": ""
            },
            "colorscale": [
             [
              0,
              "#0d0887"
             ],
             [
              0.1111111111111111,
              "#46039f"
             ],
             [
              0.2222222222222222,
              "#7201a8"
             ],
             [
              0.3333333333333333,
              "#9c179e"
             ],
             [
              0.4444444444444444,
              "#bd3786"
             ],
             [
              0.5555555555555556,
              "#d8576b"
             ],
             [
              0.6666666666666666,
              "#ed7953"
             ],
             [
              0.7777777777777778,
              "#fb9f3a"
             ],
             [
              0.8888888888888888,
              "#fdca26"
             ],
             [
              1,
              "#f0f921"
             ]
            ],
            "type": "heatmap"
           }
          ],
          "histogram": [
           {
            "marker": {
             "pattern": {
              "fillmode": "overlay",
              "size": 10,
              "solidity": 0.2
             }
            },
            "type": "histogram"
           }
          ],
          "histogram2d": [
           {
            "colorbar": {
             "outlinewidth": 0,
             "ticks": ""
            },
            "colorscale": [
             [
              0,
              "#0d0887"
             ],
             [
              0.1111111111111111,
              "#46039f"
             ],
             [
              0.2222222222222222,
              "#7201a8"
             ],
             [
              0.3333333333333333,
              "#9c179e"
             ],
             [
              0.4444444444444444,
              "#bd3786"
             ],
             [
              0.5555555555555556,
              "#d8576b"
             ],
             [
              0.6666666666666666,
              "#ed7953"
             ],
             [
              0.7777777777777778,
              "#fb9f3a"
             ],
             [
              0.8888888888888888,
              "#fdca26"
             ],
             [
              1,
              "#f0f921"
             ]
            ],
            "type": "histogram2d"
           }
          ],
          "histogram2dcontour": [
           {
            "colorbar": {
             "outlinewidth": 0,
             "ticks": ""
            },
            "colorscale": [
             [
              0,
              "#0d0887"
             ],
             [
              0.1111111111111111,
              "#46039f"
             ],
             [
              0.2222222222222222,
              "#7201a8"
             ],
             [
              0.3333333333333333,
              "#9c179e"
             ],
             [
              0.4444444444444444,
              "#bd3786"
             ],
             [
              0.5555555555555556,
              "#d8576b"
             ],
             [
              0.6666666666666666,
              "#ed7953"
             ],
             [
              0.7777777777777778,
              "#fb9f3a"
             ],
             [
              0.8888888888888888,
              "#fdca26"
             ],
             [
              1,
              "#f0f921"
             ]
            ],
            "type": "histogram2dcontour"
           }
          ],
          "mesh3d": [
           {
            "colorbar": {
             "outlinewidth": 0,
             "ticks": ""
            },
            "type": "mesh3d"
           }
          ],
          "parcoords": [
           {
            "line": {
             "colorbar": {
              "outlinewidth": 0,
              "ticks": ""
             }
            },
            "type": "parcoords"
           }
          ],
          "pie": [
           {
            "automargin": true,
            "type": "pie"
           }
          ],
          "scatter": [
           {
            "fillpattern": {
             "fillmode": "overlay",
             "size": 10,
             "solidity": 0.2
            },
            "type": "scatter"
           }
          ],
          "scatter3d": [
           {
            "line": {
             "colorbar": {
              "outlinewidth": 0,
              "ticks": ""
             }
            },
            "marker": {
             "colorbar": {
              "outlinewidth": 0,
              "ticks": ""
             }
            },
            "type": "scatter3d"
           }
          ],
          "scattercarpet": [
           {
            "marker": {
             "colorbar": {
              "outlinewidth": 0,
              "ticks": ""
             }
            },
            "type": "scattercarpet"
           }
          ],
          "scattergeo": [
           {
            "marker": {
             "colorbar": {
              "outlinewidth": 0,
              "ticks": ""
             }
            },
            "type": "scattergeo"
           }
          ],
          "scattergl": [
           {
            "marker": {
             "colorbar": {
              "outlinewidth": 0,
              "ticks": ""
             }
            },
            "type": "scattergl"
           }
          ],
          "scattermap": [
           {
            "marker": {
             "colorbar": {
              "outlinewidth": 0,
              "ticks": ""
             }
            },
            "type": "scattermap"
           }
          ],
          "scattermapbox": [
           {
            "marker": {
             "colorbar": {
              "outlinewidth": 0,
              "ticks": ""
             }
            },
            "type": "scattermapbox"
           }
          ],
          "scatterpolar": [
           {
            "marker": {
             "colorbar": {
              "outlinewidth": 0,
              "ticks": ""
             }
            },
            "type": "scatterpolar"
           }
          ],
          "scatterpolargl": [
           {
            "marker": {
             "colorbar": {
              "outlinewidth": 0,
              "ticks": ""
             }
            },
            "type": "scatterpolargl"
           }
          ],
          "scatterternary": [
           {
            "marker": {
             "colorbar": {
              "outlinewidth": 0,
              "ticks": ""
             }
            },
            "type": "scatterternary"
           }
          ],
          "surface": [
           {
            "colorbar": {
             "outlinewidth": 0,
             "ticks": ""
            },
            "colorscale": [
             [
              0,
              "#0d0887"
             ],
             [
              0.1111111111111111,
              "#46039f"
             ],
             [
              0.2222222222222222,
              "#7201a8"
             ],
             [
              0.3333333333333333,
              "#9c179e"
             ],
             [
              0.4444444444444444,
              "#bd3786"
             ],
             [
              0.5555555555555556,
              "#d8576b"
             ],
             [
              0.6666666666666666,
              "#ed7953"
             ],
             [
              0.7777777777777778,
              "#fb9f3a"
             ],
             [
              0.8888888888888888,
              "#fdca26"
             ],
             [
              1,
              "#f0f921"
             ]
            ],
            "type": "surface"
           }
          ],
          "table": [
           {
            "cells": {
             "fill": {
              "color": "#EBF0F8"
             },
             "line": {
              "color": "white"
             }
            },
            "header": {
             "fill": {
              "color": "#C8D4E3"
             },
             "line": {
              "color": "white"
             }
            },
            "type": "table"
           }
          ]
         },
         "layout": {
          "annotationdefaults": {
           "arrowcolor": "#2a3f5f",
           "arrowhead": 0,
           "arrowwidth": 1
          },
          "autotypenumbers": "strict",
          "coloraxis": {
           "colorbar": {
            "outlinewidth": 0,
            "ticks": ""
           }
          },
          "colorscale": {
           "diverging": [
            [
             0,
             "#8e0152"
            ],
            [
             0.1,
             "#c51b7d"
            ],
            [
             0.2,
             "#de77ae"
            ],
            [
             0.3,
             "#f1b6da"
            ],
            [
             0.4,
             "#fde0ef"
            ],
            [
             0.5,
             "#f7f7f7"
            ],
            [
             0.6,
             "#e6f5d0"
            ],
            [
             0.7,
             "#b8e186"
            ],
            [
             0.8,
             "#7fbc41"
            ],
            [
             0.9,
             "#4d9221"
            ],
            [
             1,
             "#276419"
            ]
           ],
           "sequential": [
            [
             0,
             "#0d0887"
            ],
            [
             0.1111111111111111,
             "#46039f"
            ],
            [
             0.2222222222222222,
             "#7201a8"
            ],
            [
             0.3333333333333333,
             "#9c179e"
            ],
            [
             0.4444444444444444,
             "#bd3786"
            ],
            [
             0.5555555555555556,
             "#d8576b"
            ],
            [
             0.6666666666666666,
             "#ed7953"
            ],
            [
             0.7777777777777778,
             "#fb9f3a"
            ],
            [
             0.8888888888888888,
             "#fdca26"
            ],
            [
             1,
             "#f0f921"
            ]
           ],
           "sequentialminus": [
            [
             0,
             "#0d0887"
            ],
            [
             0.1111111111111111,
             "#46039f"
            ],
            [
             0.2222222222222222,
             "#7201a8"
            ],
            [
             0.3333333333333333,
             "#9c179e"
            ],
            [
             0.4444444444444444,
             "#bd3786"
            ],
            [
             0.5555555555555556,
             "#d8576b"
            ],
            [
             0.6666666666666666,
             "#ed7953"
            ],
            [
             0.7777777777777778,
             "#fb9f3a"
            ],
            [
             0.8888888888888888,
             "#fdca26"
            ],
            [
             1,
             "#f0f921"
            ]
           ]
          },
          "colorway": [
           "#636efa",
           "#EF553B",
           "#00cc96",
           "#ab63fa",
           "#FFA15A",
           "#19d3f3",
           "#FF6692",
           "#B6E880",
           "#FF97FF",
           "#FECB52"
          ],
          "font": {
           "color": "#2a3f5f"
          },
          "geo": {
           "bgcolor": "white",
           "lakecolor": "white",
           "landcolor": "#E5ECF6",
           "showlakes": true,
           "showland": true,
           "subunitcolor": "white"
          },
          "hoverlabel": {
           "align": "left"
          },
          "hovermode": "closest",
          "mapbox": {
           "style": "light"
          },
          "paper_bgcolor": "white",
          "plot_bgcolor": "#E5ECF6",
          "polar": {
           "angularaxis": {
            "gridcolor": "white",
            "linecolor": "white",
            "ticks": ""
           },
           "bgcolor": "#E5ECF6",
           "radialaxis": {
            "gridcolor": "white",
            "linecolor": "white",
            "ticks": ""
           }
          },
          "scene": {
           "xaxis": {
            "backgroundcolor": "#E5ECF6",
            "gridcolor": "white",
            "gridwidth": 2,
            "linecolor": "white",
            "showbackground": true,
            "ticks": "",
            "zerolinecolor": "white"
           },
           "yaxis": {
            "backgroundcolor": "#E5ECF6",
            "gridcolor": "white",
            "gridwidth": 2,
            "linecolor": "white",
            "showbackground": true,
            "ticks": "",
            "zerolinecolor": "white"
           },
           "zaxis": {
            "backgroundcolor": "#E5ECF6",
            "gridcolor": "white",
            "gridwidth": 2,
            "linecolor": "white",
            "showbackground": true,
            "ticks": "",
            "zerolinecolor": "white"
           }
          },
          "shapedefaults": {
           "line": {
            "color": "#2a3f5f"
           }
          },
          "ternary": {
           "aaxis": {
            "gridcolor": "white",
            "linecolor": "white",
            "ticks": ""
           },
           "baxis": {
            "gridcolor": "white",
            "linecolor": "white",
            "ticks": ""
           },
           "bgcolor": "#E5ECF6",
           "caxis": {
            "gridcolor": "white",
            "linecolor": "white",
            "ticks": ""
           }
          },
          "title": {
           "x": 0.05
          },
          "xaxis": {
           "automargin": true,
           "gridcolor": "white",
           "linecolor": "white",
           "ticks": "",
           "title": {
            "standoff": 15
           },
           "zerolinecolor": "white",
           "zerolinewidth": 2
          },
          "yaxis": {
           "automargin": true,
           "gridcolor": "white",
           "linecolor": "white",
           "ticks": "",
           "title": {
            "standoff": 15
           },
           "zerolinecolor": "white",
           "zerolinewidth": 2
          }
         }
        },
        "title": {
         "text": "Monthly Cost Per KWh"
        },
        "xaxis": {
         "anchor": "y",
         "domain": [
          0,
          1
         ],
         "tickmode": "array",
         "ticktext": [
          "Jan",
          "Feb",
          "Mar",
          "Apr",
          "May",
          "Jun",
          "Jul",
          "Aug",
          "Sep",
          "Oct",
          "Nov",
          "Dec"
         ],
         "tickvals": [
          1,
          2,
          3,
          4,
          5,
          6,
          7,
          8,
          9,
          10,
          11,
          12
         ],
         "title": {
          "text": "Month"
         }
        },
        "yaxis": {
         "anchor": "x",
         "domain": [
          0,
          1
         ],
         "title": {
          "text": "Cost Per Kwh Fixed"
         }
        }
       }
      }
     },
     "metadata": {},
     "output_type": "display_data"
    }
   ],
   "source": [
    "plot_monthly_by_year(df, \"cost_per_kwh_fixed\", title=\"Monthly Cost Per KWh\")"
   ]
  },
  {
   "cell_type": "code",
   "execution_count": 12,
   "id": "b175a1c1",
   "metadata": {},
   "outputs": [
    {
     "data": {
      "application/vnd.plotly.v1+json": {
       "config": {
        "plotlyServerURL": "https://plot.ly"
       },
       "data": [
        {
         "alignmentgroup": "True",
         "hovertemplate": "Year=2023<br>Month=%{x}<br>Kwh Fixed=%{y}<extra></extra>",
         "legendgroup": "2023",
         "marker": {
          "color": "#636efa",
          "pattern": {
           "shape": ""
          }
         },
         "name": "2023",
         "offsetgroup": "2023",
         "orientation": "v",
         "showlegend": true,
         "textposition": "auto",
         "type": "bar",
         "x": {
          "bdata": "BgcICQoLDA==",
          "dtype": "i1"
         },
         "xaxis": "x",
         "y": {
          "bdata": "AAAAAACZwkAAAAAAAP/DQAAAAACAfMNAAAAAAIB+wkAAAAAAgH7CQAAAAAAApr9AAAAAAAAqwkA=",
          "dtype": "f8"
         },
         "yaxis": "y"
        },
        {
         "alignmentgroup": "True",
         "hovertemplate": "Year=2024<br>Month=%{x}<br>Kwh Fixed=%{y}<extra></extra>",
         "legendgroup": "2024",
         "marker": {
          "color": "#EF553B",
          "pattern": {
           "shape": ""
          }
         },
         "name": "2024",
         "offsetgroup": "2024",
         "orientation": "v",
         "showlegend": true,
         "textposition": "auto",
         "type": "bar",
         "x": {
          "bdata": "AQIDBAUG",
          "dtype": "i1"
         },
         "xaxis": "x",
         "y": {
          "bdata": "AAAAAADxxUAAAAAAALXAQAAAAACAycNAAAAAAIBdwEAAAAAAANbAQAAAAAAAz71A",
          "dtype": "f8"
         },
         "yaxis": "y"
        }
       ],
       "layout": {
        "annotations": [
         {
          "showarrow": false,
          "text": "Mean (9278.923)",
          "x": 0,
          "xanchor": "left",
          "xref": "x domain",
          "y": 9278.923076923076,
          "yanchor": "bottom",
          "yref": "y"
         },
         {
          "showarrow": false,
          "text": "+2σ (11275.390)",
          "x": 1,
          "xanchor": "right",
          "xref": "x domain",
          "y": 11275.390200208349,
          "yanchor": "bottom",
          "yref": "y"
         },
         {
          "showarrow": false,
          "text": "-2σ (7282.456)",
          "x": 1,
          "xanchor": "right",
          "xref": "x domain",
          "y": 7282.455953637804,
          "yanchor": "top",
          "yref": "y"
         }
        ],
        "barmode": "group",
        "legend": {
         "title": {
          "text": "Year"
         },
         "tracegroupgap": 0
        },
        "shapes": [
         {
          "line": {
           "dash": "dash"
          },
          "type": "line",
          "x0": 0,
          "x1": 1,
          "xref": "x domain",
          "y0": 9278.923076923076,
          "y1": 9278.923076923076,
          "yref": "y"
         },
         {
          "line": {
           "dash": "dot"
          },
          "type": "line",
          "x0": 0,
          "x1": 1,
          "xref": "x domain",
          "y0": 11275.390200208349,
          "y1": 11275.390200208349,
          "yref": "y"
         },
         {
          "line": {
           "dash": "dot"
          },
          "type": "line",
          "x0": 0,
          "x1": 1,
          "xref": "x domain",
          "y0": 7282.455953637804,
          "y1": 7282.455953637804,
          "yref": "y"
         }
        ],
        "template": {
         "data": {
          "bar": [
           {
            "error_x": {
             "color": "#2a3f5f"
            },
            "error_y": {
             "color": "#2a3f5f"
            },
            "marker": {
             "line": {
              "color": "#E5ECF6",
              "width": 0.5
             },
             "pattern": {
              "fillmode": "overlay",
              "size": 10,
              "solidity": 0.2
             }
            },
            "type": "bar"
           }
          ],
          "barpolar": [
           {
            "marker": {
             "line": {
              "color": "#E5ECF6",
              "width": 0.5
             },
             "pattern": {
              "fillmode": "overlay",
              "size": 10,
              "solidity": 0.2
             }
            },
            "type": "barpolar"
           }
          ],
          "carpet": [
           {
            "aaxis": {
             "endlinecolor": "#2a3f5f",
             "gridcolor": "white",
             "linecolor": "white",
             "minorgridcolor": "white",
             "startlinecolor": "#2a3f5f"
            },
            "baxis": {
             "endlinecolor": "#2a3f5f",
             "gridcolor": "white",
             "linecolor": "white",
             "minorgridcolor": "white",
             "startlinecolor": "#2a3f5f"
            },
            "type": "carpet"
           }
          ],
          "choropleth": [
           {
            "colorbar": {
             "outlinewidth": 0,
             "ticks": ""
            },
            "type": "choropleth"
           }
          ],
          "contour": [
           {
            "colorbar": {
             "outlinewidth": 0,
             "ticks": ""
            },
            "colorscale": [
             [
              0,
              "#0d0887"
             ],
             [
              0.1111111111111111,
              "#46039f"
             ],
             [
              0.2222222222222222,
              "#7201a8"
             ],
             [
              0.3333333333333333,
              "#9c179e"
             ],
             [
              0.4444444444444444,
              "#bd3786"
             ],
             [
              0.5555555555555556,
              "#d8576b"
             ],
             [
              0.6666666666666666,
              "#ed7953"
             ],
             [
              0.7777777777777778,
              "#fb9f3a"
             ],
             [
              0.8888888888888888,
              "#fdca26"
             ],
             [
              1,
              "#f0f921"
             ]
            ],
            "type": "contour"
           }
          ],
          "contourcarpet": [
           {
            "colorbar": {
             "outlinewidth": 0,
             "ticks": ""
            },
            "type": "contourcarpet"
           }
          ],
          "heatmap": [
           {
            "colorbar": {
             "outlinewidth": 0,
             "ticks": ""
            },
            "colorscale": [
             [
              0,
              "#0d0887"
             ],
             [
              0.1111111111111111,
              "#46039f"
             ],
             [
              0.2222222222222222,
              "#7201a8"
             ],
             [
              0.3333333333333333,
              "#9c179e"
             ],
             [
              0.4444444444444444,
              "#bd3786"
             ],
             [
              0.5555555555555556,
              "#d8576b"
             ],
             [
              0.6666666666666666,
              "#ed7953"
             ],
             [
              0.7777777777777778,
              "#fb9f3a"
             ],
             [
              0.8888888888888888,
              "#fdca26"
             ],
             [
              1,
              "#f0f921"
             ]
            ],
            "type": "heatmap"
           }
          ],
          "histogram": [
           {
            "marker": {
             "pattern": {
              "fillmode": "overlay",
              "size": 10,
              "solidity": 0.2
             }
            },
            "type": "histogram"
           }
          ],
          "histogram2d": [
           {
            "colorbar": {
             "outlinewidth": 0,
             "ticks": ""
            },
            "colorscale": [
             [
              0,
              "#0d0887"
             ],
             [
              0.1111111111111111,
              "#46039f"
             ],
             [
              0.2222222222222222,
              "#7201a8"
             ],
             [
              0.3333333333333333,
              "#9c179e"
             ],
             [
              0.4444444444444444,
              "#bd3786"
             ],
             [
              0.5555555555555556,
              "#d8576b"
             ],
             [
              0.6666666666666666,
              "#ed7953"
             ],
             [
              0.7777777777777778,
              "#fb9f3a"
             ],
             [
              0.8888888888888888,
              "#fdca26"
             ],
             [
              1,
              "#f0f921"
             ]
            ],
            "type": "histogram2d"
           }
          ],
          "histogram2dcontour": [
           {
            "colorbar": {
             "outlinewidth": 0,
             "ticks": ""
            },
            "colorscale": [
             [
              0,
              "#0d0887"
             ],
             [
              0.1111111111111111,
              "#46039f"
             ],
             [
              0.2222222222222222,
              "#7201a8"
             ],
             [
              0.3333333333333333,
              "#9c179e"
             ],
             [
              0.4444444444444444,
              "#bd3786"
             ],
             [
              0.5555555555555556,
              "#d8576b"
             ],
             [
              0.6666666666666666,
              "#ed7953"
             ],
             [
              0.7777777777777778,
              "#fb9f3a"
             ],
             [
              0.8888888888888888,
              "#fdca26"
             ],
             [
              1,
              "#f0f921"
             ]
            ],
            "type": "histogram2dcontour"
           }
          ],
          "mesh3d": [
           {
            "colorbar": {
             "outlinewidth": 0,
             "ticks": ""
            },
            "type": "mesh3d"
           }
          ],
          "parcoords": [
           {
            "line": {
             "colorbar": {
              "outlinewidth": 0,
              "ticks": ""
             }
            },
            "type": "parcoords"
           }
          ],
          "pie": [
           {
            "automargin": true,
            "type": "pie"
           }
          ],
          "scatter": [
           {
            "fillpattern": {
             "fillmode": "overlay",
             "size": 10,
             "solidity": 0.2
            },
            "type": "scatter"
           }
          ],
          "scatter3d": [
           {
            "line": {
             "colorbar": {
              "outlinewidth": 0,
              "ticks": ""
             }
            },
            "marker": {
             "colorbar": {
              "outlinewidth": 0,
              "ticks": ""
             }
            },
            "type": "scatter3d"
           }
          ],
          "scattercarpet": [
           {
            "marker": {
             "colorbar": {
              "outlinewidth": 0,
              "ticks": ""
             }
            },
            "type": "scattercarpet"
           }
          ],
          "scattergeo": [
           {
            "marker": {
             "colorbar": {
              "outlinewidth": 0,
              "ticks": ""
             }
            },
            "type": "scattergeo"
           }
          ],
          "scattergl": [
           {
            "marker": {
             "colorbar": {
              "outlinewidth": 0,
              "ticks": ""
             }
            },
            "type": "scattergl"
           }
          ],
          "scattermap": [
           {
            "marker": {
             "colorbar": {
              "outlinewidth": 0,
              "ticks": ""
             }
            },
            "type": "scattermap"
           }
          ],
          "scattermapbox": [
           {
            "marker": {
             "colorbar": {
              "outlinewidth": 0,
              "ticks": ""
             }
            },
            "type": "scattermapbox"
           }
          ],
          "scatterpolar": [
           {
            "marker": {
             "colorbar": {
              "outlinewidth": 0,
              "ticks": ""
             }
            },
            "type": "scatterpolar"
           }
          ],
          "scatterpolargl": [
           {
            "marker": {
             "colorbar": {
              "outlinewidth": 0,
              "ticks": ""
             }
            },
            "type": "scatterpolargl"
           }
          ],
          "scatterternary": [
           {
            "marker": {
             "colorbar": {
              "outlinewidth": 0,
              "ticks": ""
             }
            },
            "type": "scatterternary"
           }
          ],
          "surface": [
           {
            "colorbar": {
             "outlinewidth": 0,
             "ticks": ""
            },
            "colorscale": [
             [
              0,
              "#0d0887"
             ],
             [
              0.1111111111111111,
              "#46039f"
             ],
             [
              0.2222222222222222,
              "#7201a8"
             ],
             [
              0.3333333333333333,
              "#9c179e"
             ],
             [
              0.4444444444444444,
              "#bd3786"
             ],
             [
              0.5555555555555556,
              "#d8576b"
             ],
             [
              0.6666666666666666,
              "#ed7953"
             ],
             [
              0.7777777777777778,
              "#fb9f3a"
             ],
             [
              0.8888888888888888,
              "#fdca26"
             ],
             [
              1,
              "#f0f921"
             ]
            ],
            "type": "surface"
           }
          ],
          "table": [
           {
            "cells": {
             "fill": {
              "color": "#EBF0F8"
             },
             "line": {
              "color": "white"
             }
            },
            "header": {
             "fill": {
              "color": "#C8D4E3"
             },
             "line": {
              "color": "white"
             }
            },
            "type": "table"
           }
          ]
         },
         "layout": {
          "annotationdefaults": {
           "arrowcolor": "#2a3f5f",
           "arrowhead": 0,
           "arrowwidth": 1
          },
          "autotypenumbers": "strict",
          "coloraxis": {
           "colorbar": {
            "outlinewidth": 0,
            "ticks": ""
           }
          },
          "colorscale": {
           "diverging": [
            [
             0,
             "#8e0152"
            ],
            [
             0.1,
             "#c51b7d"
            ],
            [
             0.2,
             "#de77ae"
            ],
            [
             0.3,
             "#f1b6da"
            ],
            [
             0.4,
             "#fde0ef"
            ],
            [
             0.5,
             "#f7f7f7"
            ],
            [
             0.6,
             "#e6f5d0"
            ],
            [
             0.7,
             "#b8e186"
            ],
            [
             0.8,
             "#7fbc41"
            ],
            [
             0.9,
             "#4d9221"
            ],
            [
             1,
             "#276419"
            ]
           ],
           "sequential": [
            [
             0,
             "#0d0887"
            ],
            [
             0.1111111111111111,
             "#46039f"
            ],
            [
             0.2222222222222222,
             "#7201a8"
            ],
            [
             0.3333333333333333,
             "#9c179e"
            ],
            [
             0.4444444444444444,
             "#bd3786"
            ],
            [
             0.5555555555555556,
             "#d8576b"
            ],
            [
             0.6666666666666666,
             "#ed7953"
            ],
            [
             0.7777777777777778,
             "#fb9f3a"
            ],
            [
             0.8888888888888888,
             "#fdca26"
            ],
            [
             1,
             "#f0f921"
            ]
           ],
           "sequentialminus": [
            [
             0,
             "#0d0887"
            ],
            [
             0.1111111111111111,
             "#46039f"
            ],
            [
             0.2222222222222222,
             "#7201a8"
            ],
            [
             0.3333333333333333,
             "#9c179e"
            ],
            [
             0.4444444444444444,
             "#bd3786"
            ],
            [
             0.5555555555555556,
             "#d8576b"
            ],
            [
             0.6666666666666666,
             "#ed7953"
            ],
            [
             0.7777777777777778,
             "#fb9f3a"
            ],
            [
             0.8888888888888888,
             "#fdca26"
            ],
            [
             1,
             "#f0f921"
            ]
           ]
          },
          "colorway": [
           "#636efa",
           "#EF553B",
           "#00cc96",
           "#ab63fa",
           "#FFA15A",
           "#19d3f3",
           "#FF6692",
           "#B6E880",
           "#FF97FF",
           "#FECB52"
          ],
          "font": {
           "color": "#2a3f5f"
          },
          "geo": {
           "bgcolor": "white",
           "lakecolor": "white",
           "landcolor": "#E5ECF6",
           "showlakes": true,
           "showland": true,
           "subunitcolor": "white"
          },
          "hoverlabel": {
           "align": "left"
          },
          "hovermode": "closest",
          "mapbox": {
           "style": "light"
          },
          "paper_bgcolor": "white",
          "plot_bgcolor": "#E5ECF6",
          "polar": {
           "angularaxis": {
            "gridcolor": "white",
            "linecolor": "white",
            "ticks": ""
           },
           "bgcolor": "#E5ECF6",
           "radialaxis": {
            "gridcolor": "white",
            "linecolor": "white",
            "ticks": ""
           }
          },
          "scene": {
           "xaxis": {
            "backgroundcolor": "#E5ECF6",
            "gridcolor": "white",
            "gridwidth": 2,
            "linecolor": "white",
            "showbackground": true,
            "ticks": "",
            "zerolinecolor": "white"
           },
           "yaxis": {
            "backgroundcolor": "#E5ECF6",
            "gridcolor": "white",
            "gridwidth": 2,
            "linecolor": "white",
            "showbackground": true,
            "ticks": "",
            "zerolinecolor": "white"
           },
           "zaxis": {
            "backgroundcolor": "#E5ECF6",
            "gridcolor": "white",
            "gridwidth": 2,
            "linecolor": "white",
            "showbackground": true,
            "ticks": "",
            "zerolinecolor": "white"
           }
          },
          "shapedefaults": {
           "line": {
            "color": "#2a3f5f"
           }
          },
          "ternary": {
           "aaxis": {
            "gridcolor": "white",
            "linecolor": "white",
            "ticks": ""
           },
           "baxis": {
            "gridcolor": "white",
            "linecolor": "white",
            "ticks": ""
           },
           "bgcolor": "#E5ECF6",
           "caxis": {
            "gridcolor": "white",
            "linecolor": "white",
            "ticks": ""
           }
          },
          "title": {
           "x": 0.05
          },
          "xaxis": {
           "automargin": true,
           "gridcolor": "white",
           "linecolor": "white",
           "ticks": "",
           "title": {
            "standoff": 15
           },
           "zerolinecolor": "white",
           "zerolinewidth": 2
          },
          "yaxis": {
           "automargin": true,
           "gridcolor": "white",
           "linecolor": "white",
           "ticks": "",
           "title": {
            "standoff": 15
           },
           "zerolinecolor": "white",
           "zerolinewidth": 2
          }
         }
        },
        "title": {
         "text": "Monthly KWh"
        },
        "xaxis": {
         "anchor": "y",
         "domain": [
          0,
          1
         ],
         "tickmode": "array",
         "ticktext": [
          "Jan",
          "Feb",
          "Mar",
          "Apr",
          "May",
          "Jun",
          "Jul",
          "Aug",
          "Sep",
          "Oct",
          "Nov",
          "Dec"
         ],
         "tickvals": [
          1,
          2,
          3,
          4,
          5,
          6,
          7,
          8,
          9,
          10,
          11,
          12
         ],
         "title": {
          "text": "Month"
         }
        },
        "yaxis": {
         "anchor": "x",
         "domain": [
          0,
          1
         ],
         "title": {
          "text": "Kwh Fixed"
         }
        }
       }
      }
     },
     "metadata": {},
     "output_type": "display_data"
    }
   ],
   "source": [
    "plot_monthly_by_year(df, \"kwh_fixed\", title=\"Monthly KWh\")"
   ]
  },
  {
   "cell_type": "code",
   "execution_count": 4,
   "id": "1ab478da",
   "metadata": {},
   "outputs": [
    {
     "name": "stdout",
     "output_type": "stream",
     "text": [
      "=== Monthly Stats ===\n"
     ]
    },
    {
     "data": {
      "text/html": [
       "<div>\n",
       "<style scoped>\n",
       "    .dataframe tbody tr th:only-of-type {\n",
       "        vertical-align: middle;\n",
       "    }\n",
       "\n",
       "    .dataframe tbody tr th {\n",
       "        vertical-align: top;\n",
       "    }\n",
       "\n",
       "    .dataframe thead th {\n",
       "        text-align: right;\n",
       "    }\n",
       "</style>\n",
       "<table border=\"1\" class=\"dataframe\">\n",
       "  <thead>\n",
       "    <tr style=\"text-align: right;\">\n",
       "      <th></th>\n",
       "      <th>cost_fixed_sum</th>\n",
       "      <th>cost_fixed_mean</th>\n",
       "      <th>cost_fixed_median</th>\n",
       "      <th>cost_fixed_std</th>\n",
       "      <th>cost_fixed_min</th>\n",
       "      <th>cost_fixed_max</th>\n",
       "      <th>cost_fixed_count</th>\n",
       "      <th>kwh_fixed_sum</th>\n",
       "      <th>kwh_fixed_mean</th>\n",
       "      <th>kwh_fixed_median</th>\n",
       "      <th>...</th>\n",
       "      <th>cost_per_kwh_fixed_sum</th>\n",
       "      <th>cost_per_kwh_fixed_mean</th>\n",
       "      <th>cost_per_kwh_fixed_median</th>\n",
       "      <th>cost_per_kwh_fixed_std</th>\n",
       "      <th>cost_per_kwh_fixed_min</th>\n",
       "      <th>cost_per_kwh_fixed_max</th>\n",
       "      <th>cost_per_kwh_fixed_count</th>\n",
       "      <th>cost_fixed_cv</th>\n",
       "      <th>kwh_fixed_cv</th>\n",
       "      <th>cost_per_kwh_fixed_cv</th>\n",
       "    </tr>\n",
       "    <tr>\n",
       "      <th>month_number</th>\n",
       "      <th></th>\n",
       "      <th></th>\n",
       "      <th></th>\n",
       "      <th></th>\n",
       "      <th></th>\n",
       "      <th></th>\n",
       "      <th></th>\n",
       "      <th></th>\n",
       "      <th></th>\n",
       "      <th></th>\n",
       "      <th></th>\n",
       "      <th></th>\n",
       "      <th></th>\n",
       "      <th></th>\n",
       "      <th></th>\n",
       "      <th></th>\n",
       "      <th></th>\n",
       "      <th></th>\n",
       "      <th></th>\n",
       "      <th></th>\n",
       "      <th></th>\n",
       "    </tr>\n",
       "  </thead>\n",
       "  <tbody>\n",
       "    <tr>\n",
       "      <th>1</th>\n",
       "      <td>2038.0</td>\n",
       "      <td>2038.0</td>\n",
       "      <td>2038.0</td>\n",
       "      <td>NaN</td>\n",
       "      <td>2038.0</td>\n",
       "      <td>2038.0</td>\n",
       "      <td>1</td>\n",
       "      <td>11234.0</td>\n",
       "      <td>11234.0</td>\n",
       "      <td>11234.0</td>\n",
       "      <td>...</td>\n",
       "      <td>0.181414</td>\n",
       "      <td>0.181414</td>\n",
       "      <td>0.181414</td>\n",
       "      <td>NaN</td>\n",
       "      <td>0.181414</td>\n",
       "      <td>0.181414</td>\n",
       "      <td>1</td>\n",
       "      <td>NaN</td>\n",
       "      <td>NaN</td>\n",
       "      <td>NaN</td>\n",
       "    </tr>\n",
       "    <tr>\n",
       "      <th>2</th>\n",
       "      <td>1513.0</td>\n",
       "      <td>1513.0</td>\n",
       "      <td>1513.0</td>\n",
       "      <td>NaN</td>\n",
       "      <td>1513.0</td>\n",
       "      <td>1513.0</td>\n",
       "      <td>1</td>\n",
       "      <td>8554.0</td>\n",
       "      <td>8554.0</td>\n",
       "      <td>8554.0</td>\n",
       "      <td>...</td>\n",
       "      <td>0.176876</td>\n",
       "      <td>0.176876</td>\n",
       "      <td>0.176876</td>\n",
       "      <td>NaN</td>\n",
       "      <td>0.176876</td>\n",
       "      <td>0.176876</td>\n",
       "      <td>1</td>\n",
       "      <td>NaN</td>\n",
       "      <td>NaN</td>\n",
       "      <td>NaN</td>\n",
       "    </tr>\n",
       "    <tr>\n",
       "      <th>3</th>\n",
       "      <td>1610.0</td>\n",
       "      <td>1610.0</td>\n",
       "      <td>1610.0</td>\n",
       "      <td>NaN</td>\n",
       "      <td>1610.0</td>\n",
       "      <td>1610.0</td>\n",
       "      <td>1</td>\n",
       "      <td>10131.0</td>\n",
       "      <td>10131.0</td>\n",
       "      <td>10131.0</td>\n",
       "      <td>...</td>\n",
       "      <td>0.158918</td>\n",
       "      <td>0.158918</td>\n",
       "      <td>0.158918</td>\n",
       "      <td>NaN</td>\n",
       "      <td>0.158918</td>\n",
       "      <td>0.158918</td>\n",
       "      <td>1</td>\n",
       "      <td>NaN</td>\n",
       "      <td>NaN</td>\n",
       "      <td>NaN</td>\n",
       "    </tr>\n",
       "    <tr>\n",
       "      <th>4</th>\n",
       "      <td>1429.0</td>\n",
       "      <td>1429.0</td>\n",
       "      <td>1429.0</td>\n",
       "      <td>NaN</td>\n",
       "      <td>1429.0</td>\n",
       "      <td>1429.0</td>\n",
       "      <td>1</td>\n",
       "      <td>8379.0</td>\n",
       "      <td>8379.0</td>\n",
       "      <td>8379.0</td>\n",
       "      <td>...</td>\n",
       "      <td>0.170545</td>\n",
       "      <td>0.170545</td>\n",
       "      <td>0.170545</td>\n",
       "      <td>NaN</td>\n",
       "      <td>0.170545</td>\n",
       "      <td>0.170545</td>\n",
       "      <td>1</td>\n",
       "      <td>NaN</td>\n",
       "      <td>NaN</td>\n",
       "      <td>NaN</td>\n",
       "    </tr>\n",
       "    <tr>\n",
       "      <th>5</th>\n",
       "      <td>1417.0</td>\n",
       "      <td>1417.0</td>\n",
       "      <td>1417.0</td>\n",
       "      <td>NaN</td>\n",
       "      <td>1417.0</td>\n",
       "      <td>1417.0</td>\n",
       "      <td>1</td>\n",
       "      <td>8620.0</td>\n",
       "      <td>8620.0</td>\n",
       "      <td>8620.0</td>\n",
       "      <td>...</td>\n",
       "      <td>0.164385</td>\n",
       "      <td>0.164385</td>\n",
       "      <td>0.164385</td>\n",
       "      <td>NaN</td>\n",
       "      <td>0.164385</td>\n",
       "      <td>0.164385</td>\n",
       "      <td>1</td>\n",
       "      <td>NaN</td>\n",
       "      <td>NaN</td>\n",
       "      <td>NaN</td>\n",
       "    </tr>\n",
       "    <tr>\n",
       "      <th>6</th>\n",
       "      <td>3152.0</td>\n",
       "      <td>1576.0</td>\n",
       "      <td>1576.0</td>\n",
       "      <td>304.055916</td>\n",
       "      <td>1361.0</td>\n",
       "      <td>1791.0</td>\n",
       "      <td>2</td>\n",
       "      <td>17153.0</td>\n",
       "      <td>8576.5</td>\n",
       "      <td>8576.5</td>\n",
       "      <td>...</td>\n",
       "      <td>0.366442</td>\n",
       "      <td>0.183221</td>\n",
       "      <td>0.183221</td>\n",
       "      <td>0.006887</td>\n",
       "      <td>0.178351</td>\n",
       "      <td>0.188091</td>\n",
       "      <td>2</td>\n",
       "      <td>0.192929</td>\n",
       "      <td>0.155907</td>\n",
       "      <td>0.037587</td>\n",
       "    </tr>\n",
       "    <tr>\n",
       "      <th>7</th>\n",
       "      <td>1717.0</td>\n",
       "      <td>1717.0</td>\n",
       "      <td>1717.0</td>\n",
       "      <td>NaN</td>\n",
       "      <td>1717.0</td>\n",
       "      <td>1717.0</td>\n",
       "      <td>1</td>\n",
       "      <td>10238.0</td>\n",
       "      <td>10238.0</td>\n",
       "      <td>10238.0</td>\n",
       "      <td>...</td>\n",
       "      <td>0.167709</td>\n",
       "      <td>0.167709</td>\n",
       "      <td>0.167709</td>\n",
       "      <td>NaN</td>\n",
       "      <td>0.167709</td>\n",
       "      <td>0.167709</td>\n",
       "      <td>1</td>\n",
       "      <td>NaN</td>\n",
       "      <td>NaN</td>\n",
       "      <td>NaN</td>\n",
       "    </tr>\n",
       "    <tr>\n",
       "      <th>8</th>\n",
       "      <td>1984.0</td>\n",
       "      <td>1984.0</td>\n",
       "      <td>1984.0</td>\n",
       "      <td>NaN</td>\n",
       "      <td>1984.0</td>\n",
       "      <td>1984.0</td>\n",
       "      <td>1</td>\n",
       "      <td>9977.0</td>\n",
       "      <td>9977.0</td>\n",
       "      <td>9977.0</td>\n",
       "      <td>...</td>\n",
       "      <td>0.198857</td>\n",
       "      <td>0.198857</td>\n",
       "      <td>0.198857</td>\n",
       "      <td>NaN</td>\n",
       "      <td>0.198857</td>\n",
       "      <td>0.198857</td>\n",
       "      <td>1</td>\n",
       "      <td>NaN</td>\n",
       "      <td>NaN</td>\n",
       "      <td>NaN</td>\n",
       "    </tr>\n",
       "    <tr>\n",
       "      <th>9</th>\n",
       "      <td>1668.5</td>\n",
       "      <td>1668.5</td>\n",
       "      <td>1668.5</td>\n",
       "      <td>NaN</td>\n",
       "      <td>1668.5</td>\n",
       "      <td>1668.5</td>\n",
       "      <td>1</td>\n",
       "      <td>9469.0</td>\n",
       "      <td>9469.0</td>\n",
       "      <td>9469.0</td>\n",
       "      <td>...</td>\n",
       "      <td>0.176207</td>\n",
       "      <td>0.176207</td>\n",
       "      <td>0.176207</td>\n",
       "      <td>NaN</td>\n",
       "      <td>0.176207</td>\n",
       "      <td>0.176207</td>\n",
       "      <td>1</td>\n",
       "      <td>NaN</td>\n",
       "      <td>NaN</td>\n",
       "      <td>NaN</td>\n",
       "    </tr>\n",
       "    <tr>\n",
       "      <th>10</th>\n",
       "      <td>1668.5</td>\n",
       "      <td>1668.5</td>\n",
       "      <td>1668.5</td>\n",
       "      <td>NaN</td>\n",
       "      <td>1668.5</td>\n",
       "      <td>1668.5</td>\n",
       "      <td>1</td>\n",
       "      <td>9469.0</td>\n",
       "      <td>9469.0</td>\n",
       "      <td>9469.0</td>\n",
       "      <td>...</td>\n",
       "      <td>0.176207</td>\n",
       "      <td>0.176207</td>\n",
       "      <td>0.176207</td>\n",
       "      <td>NaN</td>\n",
       "      <td>0.176207</td>\n",
       "      <td>0.176207</td>\n",
       "      <td>1</td>\n",
       "      <td>NaN</td>\n",
       "      <td>NaN</td>\n",
       "      <td>NaN</td>\n",
       "    </tr>\n",
       "    <tr>\n",
       "      <th>11</th>\n",
       "      <td>1579.0</td>\n",
       "      <td>1579.0</td>\n",
       "      <td>1579.0</td>\n",
       "      <td>NaN</td>\n",
       "      <td>1579.0</td>\n",
       "      <td>1579.0</td>\n",
       "      <td>1</td>\n",
       "      <td>8102.0</td>\n",
       "      <td>8102.0</td>\n",
       "      <td>8102.0</td>\n",
       "      <td>...</td>\n",
       "      <td>0.194890</td>\n",
       "      <td>0.194890</td>\n",
       "      <td>0.194890</td>\n",
       "      <td>NaN</td>\n",
       "      <td>0.194890</td>\n",
       "      <td>0.194890</td>\n",
       "      <td>1</td>\n",
       "      <td>NaN</td>\n",
       "      <td>NaN</td>\n",
       "      <td>NaN</td>\n",
       "    </tr>\n",
       "    <tr>\n",
       "      <th>12</th>\n",
       "      <td>1635.0</td>\n",
       "      <td>1635.0</td>\n",
       "      <td>1635.0</td>\n",
       "      <td>NaN</td>\n",
       "      <td>1635.0</td>\n",
       "      <td>1635.0</td>\n",
       "      <td>1</td>\n",
       "      <td>9300.0</td>\n",
       "      <td>9300.0</td>\n",
       "      <td>9300.0</td>\n",
       "      <td>...</td>\n",
       "      <td>0.175806</td>\n",
       "      <td>0.175806</td>\n",
       "      <td>0.175806</td>\n",
       "      <td>NaN</td>\n",
       "      <td>0.175806</td>\n",
       "      <td>0.175806</td>\n",
       "      <td>1</td>\n",
       "      <td>NaN</td>\n",
       "      <td>NaN</td>\n",
       "      <td>NaN</td>\n",
       "    </tr>\n",
       "  </tbody>\n",
       "</table>\n",
       "<p>12 rows × 24 columns</p>\n",
       "</div>"
      ],
      "text/plain": [
       "              cost_fixed_sum  cost_fixed_mean  cost_fixed_median  \\\n",
       "month_number                                                       \n",
       "1                     2038.0           2038.0             2038.0   \n",
       "2                     1513.0           1513.0             1513.0   \n",
       "3                     1610.0           1610.0             1610.0   \n",
       "4                     1429.0           1429.0             1429.0   \n",
       "5                     1417.0           1417.0             1417.0   \n",
       "6                     3152.0           1576.0             1576.0   \n",
       "7                     1717.0           1717.0             1717.0   \n",
       "8                     1984.0           1984.0             1984.0   \n",
       "9                     1668.5           1668.5             1668.5   \n",
       "10                    1668.5           1668.5             1668.5   \n",
       "11                    1579.0           1579.0             1579.0   \n",
       "12                    1635.0           1635.0             1635.0   \n",
       "\n",
       "              cost_fixed_std  cost_fixed_min  cost_fixed_max  \\\n",
       "month_number                                                   \n",
       "1                        NaN          2038.0          2038.0   \n",
       "2                        NaN          1513.0          1513.0   \n",
       "3                        NaN          1610.0          1610.0   \n",
       "4                        NaN          1429.0          1429.0   \n",
       "5                        NaN          1417.0          1417.0   \n",
       "6                 304.055916          1361.0          1791.0   \n",
       "7                        NaN          1717.0          1717.0   \n",
       "8                        NaN          1984.0          1984.0   \n",
       "9                        NaN          1668.5          1668.5   \n",
       "10                       NaN          1668.5          1668.5   \n",
       "11                       NaN          1579.0          1579.0   \n",
       "12                       NaN          1635.0          1635.0   \n",
       "\n",
       "              cost_fixed_count  kwh_fixed_sum  kwh_fixed_mean  \\\n",
       "month_number                                                    \n",
       "1                            1        11234.0         11234.0   \n",
       "2                            1         8554.0          8554.0   \n",
       "3                            1        10131.0         10131.0   \n",
       "4                            1         8379.0          8379.0   \n",
       "5                            1         8620.0          8620.0   \n",
       "6                            2        17153.0          8576.5   \n",
       "7                            1        10238.0         10238.0   \n",
       "8                            1         9977.0          9977.0   \n",
       "9                            1         9469.0          9469.0   \n",
       "10                           1         9469.0          9469.0   \n",
       "11                           1         8102.0          8102.0   \n",
       "12                           1         9300.0          9300.0   \n",
       "\n",
       "              kwh_fixed_median  ...  cost_per_kwh_fixed_sum  \\\n",
       "month_number                    ...                           \n",
       "1                      11234.0  ...                0.181414   \n",
       "2                       8554.0  ...                0.176876   \n",
       "3                      10131.0  ...                0.158918   \n",
       "4                       8379.0  ...                0.170545   \n",
       "5                       8620.0  ...                0.164385   \n",
       "6                       8576.5  ...                0.366442   \n",
       "7                      10238.0  ...                0.167709   \n",
       "8                       9977.0  ...                0.198857   \n",
       "9                       9469.0  ...                0.176207   \n",
       "10                      9469.0  ...                0.176207   \n",
       "11                      8102.0  ...                0.194890   \n",
       "12                      9300.0  ...                0.175806   \n",
       "\n",
       "              cost_per_kwh_fixed_mean  cost_per_kwh_fixed_median  \\\n",
       "month_number                                                       \n",
       "1                            0.181414                   0.181414   \n",
       "2                            0.176876                   0.176876   \n",
       "3                            0.158918                   0.158918   \n",
       "4                            0.170545                   0.170545   \n",
       "5                            0.164385                   0.164385   \n",
       "6                            0.183221                   0.183221   \n",
       "7                            0.167709                   0.167709   \n",
       "8                            0.198857                   0.198857   \n",
       "9                            0.176207                   0.176207   \n",
       "10                           0.176207                   0.176207   \n",
       "11                           0.194890                   0.194890   \n",
       "12                           0.175806                   0.175806   \n",
       "\n",
       "              cost_per_kwh_fixed_std  cost_per_kwh_fixed_min  \\\n",
       "month_number                                                   \n",
       "1                                NaN                0.181414   \n",
       "2                                NaN                0.176876   \n",
       "3                                NaN                0.158918   \n",
       "4                                NaN                0.170545   \n",
       "5                                NaN                0.164385   \n",
       "6                           0.006887                0.178351   \n",
       "7                                NaN                0.167709   \n",
       "8                                NaN                0.198857   \n",
       "9                                NaN                0.176207   \n",
       "10                               NaN                0.176207   \n",
       "11                               NaN                0.194890   \n",
       "12                               NaN                0.175806   \n",
       "\n",
       "              cost_per_kwh_fixed_max  cost_per_kwh_fixed_count  cost_fixed_cv  \\\n",
       "month_number                                                                    \n",
       "1                           0.181414                         1            NaN   \n",
       "2                           0.176876                         1            NaN   \n",
       "3                           0.158918                         1            NaN   \n",
       "4                           0.170545                         1            NaN   \n",
       "5                           0.164385                         1            NaN   \n",
       "6                           0.188091                         2       0.192929   \n",
       "7                           0.167709                         1            NaN   \n",
       "8                           0.198857                         1            NaN   \n",
       "9                           0.176207                         1            NaN   \n",
       "10                          0.176207                         1            NaN   \n",
       "11                          0.194890                         1            NaN   \n",
       "12                          0.175806                         1            NaN   \n",
       "\n",
       "              kwh_fixed_cv  cost_per_kwh_fixed_cv  \n",
       "month_number                                       \n",
       "1                      NaN                    NaN  \n",
       "2                      NaN                    NaN  \n",
       "3                      NaN                    NaN  \n",
       "4                      NaN                    NaN  \n",
       "5                      NaN                    NaN  \n",
       "6                 0.155907               0.037587  \n",
       "7                      NaN                    NaN  \n",
       "8                      NaN                    NaN  \n",
       "9                      NaN                    NaN  \n",
       "10                     NaN                    NaN  \n",
       "11                     NaN                    NaN  \n",
       "12                     NaN                    NaN  \n",
       "\n",
       "[12 rows x 24 columns]"
      ]
     },
     "execution_count": 4,
     "metadata": {},
     "output_type": "execute_result"
    }
   ],
   "source": [
    "import pandas as pd\n",
    "\n",
    "def summarize_stats(\n",
    "    df: pd.DataFrame,\n",
    "    cols: list[str],\n",
    "    month_col: str = \"month_number\",\n",
    "    freq: str | None = \"M\"\n",
    ") -> tuple[pd.DataFrame, pd.Series]:\n",
    "    \"\"\"\n",
    "    Returns (monthly_stats, overall_stats) for the specified columns.\n",
    "\n",
    "    - monthly_stats: DataFrame indexed by month_number (1–12) with\n",
    "      sum, mean, median, std, min, max, count, cv (std/mean).\n",
    "    - overall_stats: Series with the same metrics across the entire DataFrame.\n",
    "    \n",
    "    Parameters:\n",
    "    - df: DataFrame containing your data.\n",
    "    - cols: list of column names to summarize.\n",
    "    - month_col: column name that holds month numbers (1–12).\n",
    "    - freq: if 'M', group by month; if None, skip monthly grouping.\n",
    "    \"\"\"\n",
    "    # 1) Overall stats\n",
    "    overall = df[cols].agg(['sum','mean','median','std','min','max','count'])\n",
    "    overall.loc['cv'] = overall.loc['std'] / overall.loc['mean']\n",
    "\n",
    "    # 2) Monthly stats\n",
    "    if freq == \"M\":\n",
    "        monthly = df.groupby(month_col)[cols]\\\n",
    "                    .agg(['sum','mean','median','std','min','max','count'])\\\n",
    "                    .sort_index()\n",
    "        # flatten multiindex columns\n",
    "        monthly.columns = [\n",
    "            f\"{col}_{stat}\" for col, stat in monthly.columns\n",
    "        ]\n",
    "        # add cv columns\n",
    "        for col in cols:\n",
    "            monthly[f\"{col}_cv\"] = monthly[f\"{col}_std\"] / monthly[f\"{col}_mean\"]\n",
    "    else:\n",
    "        monthly = pd.DataFrame()\n",
    "\n",
    "    return monthly, overall\n",
    "\n",
    "# --- example usage ---\n",
    "\n",
    "# Define which columns you want stats for:\n",
    "stats_cols = [\"cost_fixed\", \"kwh_fixed\", \"cost_per_kwh_fixed\"]\n",
    "\n",
    "# Compute\n",
    "monthly_stats, overall_stats = summarize_stats(df, stats_cols)\n",
    "\n",
    "# Inspect\n",
    "print(\"=== Monthly Stats ===\")\n",
    "monthly_stats\n",
    "\n"
   ]
  },
  {
   "cell_type": "code",
   "execution_count": 5,
   "id": "94224c96",
   "metadata": {},
   "outputs": [
    {
     "name": "stdout",
     "output_type": "stream",
     "text": [
      "\n",
      "=== Overall Stats ===\n"
     ]
    },
    {
     "data": {
      "text/html": [
       "<div>\n",
       "<style scoped>\n",
       "    .dataframe tbody tr th:only-of-type {\n",
       "        vertical-align: middle;\n",
       "    }\n",
       "\n",
       "    .dataframe tbody tr th {\n",
       "        vertical-align: top;\n",
       "    }\n",
       "\n",
       "    .dataframe thead th {\n",
       "        text-align: right;\n",
       "    }\n",
       "</style>\n",
       "<table border=\"1\" class=\"dataframe\">\n",
       "  <thead>\n",
       "    <tr style=\"text-align: right;\">\n",
       "      <th></th>\n",
       "      <th>cost_fixed</th>\n",
       "      <th>kwh_fixed</th>\n",
       "      <th>cost_per_kwh_fixed</th>\n",
       "    </tr>\n",
       "  </thead>\n",
       "  <tbody>\n",
       "    <tr>\n",
       "      <th>sum</th>\n",
       "      <td>21411.000000</td>\n",
       "      <td>120626.000000</td>\n",
       "      <td>2.308256</td>\n",
       "    </tr>\n",
       "    <tr>\n",
       "      <th>mean</th>\n",
       "      <td>1647.000000</td>\n",
       "      <td>9278.923077</td>\n",
       "      <td>0.177558</td>\n",
       "    </tr>\n",
       "    <tr>\n",
       "      <th>median</th>\n",
       "      <td>1635.000000</td>\n",
       "      <td>9469.000000</td>\n",
       "      <td>0.176207</td>\n",
       "    </tr>\n",
       "    <tr>\n",
       "      <th>std</th>\n",
       "      <td>203.986009</td>\n",
       "      <td>998.233562</td>\n",
       "      <td>0.011383</td>\n",
       "    </tr>\n",
       "    <tr>\n",
       "      <th>min</th>\n",
       "      <td>1361.000000</td>\n",
       "      <td>7631.000000</td>\n",
       "      <td>0.158918</td>\n",
       "    </tr>\n",
       "    <tr>\n",
       "      <th>max</th>\n",
       "      <td>2038.000000</td>\n",
       "      <td>11234.000000</td>\n",
       "      <td>0.198857</td>\n",
       "    </tr>\n",
       "    <tr>\n",
       "      <th>count</th>\n",
       "      <td>13.000000</td>\n",
       "      <td>13.000000</td>\n",
       "      <td>13.000000</td>\n",
       "    </tr>\n",
       "    <tr>\n",
       "      <th>cv</th>\n",
       "      <td>0.123853</td>\n",
       "      <td>0.107581</td>\n",
       "      <td>0.064108</td>\n",
       "    </tr>\n",
       "  </tbody>\n",
       "</table>\n",
       "</div>"
      ],
      "text/plain": [
       "          cost_fixed      kwh_fixed  cost_per_kwh_fixed\n",
       "sum     21411.000000  120626.000000            2.308256\n",
       "mean     1647.000000    9278.923077            0.177558\n",
       "median   1635.000000    9469.000000            0.176207\n",
       "std       203.986009     998.233562            0.011383\n",
       "min      1361.000000    7631.000000            0.158918\n",
       "max      2038.000000   11234.000000            0.198857\n",
       "count      13.000000      13.000000           13.000000\n",
       "cv          0.123853       0.107581            0.064108"
      ]
     },
     "execution_count": 5,
     "metadata": {},
     "output_type": "execute_result"
    }
   ],
   "source": [
    "print(\"\\n=== Overall Stats ===\")\n",
    "overall_stats"
   ]
  },
  {
   "cell_type": "code",
   "execution_count": 13,
   "id": "2f1d97dd",
   "metadata": {},
   "outputs": [
    {
     "data": {
      "text/plain": [
       "111347.076924"
      ]
     },
     "execution_count": 13,
     "metadata": {},
     "output_type": "execute_result"
    }
   ],
   "source": [
    "9278.923077*12\n"
   ]
  },
  {
   "cell_type": "code",
   "execution_count": 12,
   "id": "ed158b0e",
   "metadata": {},
   "outputs": [
    {
     "data": {
      "text/html": [
       "<div>\n",
       "<style scoped>\n",
       "    .dataframe tbody tr th:only-of-type {\n",
       "        vertical-align: middle;\n",
       "    }\n",
       "\n",
       "    .dataframe tbody tr th {\n",
       "        vertical-align: top;\n",
       "    }\n",
       "\n",
       "    .dataframe thead th {\n",
       "        text-align: right;\n",
       "    }\n",
       "</style>\n",
       "<table border=\"1\" class=\"dataframe\">\n",
       "  <thead>\n",
       "    <tr style=\"text-align: right;\">\n",
       "      <th></th>\n",
       "      <th>year</th>\n",
       "      <th>month</th>\n",
       "      <th>cost</th>\n",
       "      <th>kwh</th>\n",
       "      <th>month_number</th>\n",
       "      <th>cost_fixed</th>\n",
       "      <th>kwh_fixed</th>\n",
       "      <th>cost_per_kwh_fixed</th>\n",
       "      <th>year_str</th>\n",
       "    </tr>\n",
       "  </thead>\n",
       "  <tbody>\n",
       "    <tr>\n",
       "      <th>0</th>\n",
       "      <td>2023</td>\n",
       "      <td>June</td>\n",
       "      <td>1791</td>\n",
       "      <td>9522</td>\n",
       "      <td>6</td>\n",
       "      <td>1791.0</td>\n",
       "      <td>9522.0</td>\n",
       "      <td>0.188091</td>\n",
       "      <td>2023</td>\n",
       "    </tr>\n",
       "    <tr>\n",
       "      <th>1</th>\n",
       "      <td>2023</td>\n",
       "      <td>July</td>\n",
       "      <td>1717</td>\n",
       "      <td>10238</td>\n",
       "      <td>7</td>\n",
       "      <td>1717.0</td>\n",
       "      <td>10238.0</td>\n",
       "      <td>0.167709</td>\n",
       "      <td>2023</td>\n",
       "    </tr>\n",
       "    <tr>\n",
       "      <th>2</th>\n",
       "      <td>2023</td>\n",
       "      <td>August</td>\n",
       "      <td>1984</td>\n",
       "      <td>9977</td>\n",
       "      <td>8</td>\n",
       "      <td>1984.0</td>\n",
       "      <td>9977.0</td>\n",
       "      <td>0.198857</td>\n",
       "      <td>2023</td>\n",
       "    </tr>\n",
       "    <tr>\n",
       "      <th>3</th>\n",
       "      <td>2023</td>\n",
       "      <td>September</td>\n",
       "      <td>642</td>\n",
       "      <td>10285</td>\n",
       "      <td>9</td>\n",
       "      <td>1668.5</td>\n",
       "      <td>9469.0</td>\n",
       "      <td>0.176207</td>\n",
       "      <td>2023</td>\n",
       "    </tr>\n",
       "    <tr>\n",
       "      <th>4</th>\n",
       "      <td>2023</td>\n",
       "      <td>October</td>\n",
       "      <td>2695</td>\n",
       "      <td>8653</td>\n",
       "      <td>10</td>\n",
       "      <td>1668.5</td>\n",
       "      <td>9469.0</td>\n",
       "      <td>0.176207</td>\n",
       "      <td>2023</td>\n",
       "    </tr>\n",
       "    <tr>\n",
       "      <th>5</th>\n",
       "      <td>2023</td>\n",
       "      <td>November</td>\n",
       "      <td>1579</td>\n",
       "      <td>8102</td>\n",
       "      <td>11</td>\n",
       "      <td>1579.0</td>\n",
       "      <td>8102.0</td>\n",
       "      <td>0.194890</td>\n",
       "      <td>2023</td>\n",
       "    </tr>\n",
       "    <tr>\n",
       "      <th>6</th>\n",
       "      <td>2023</td>\n",
       "      <td>December</td>\n",
       "      <td>1635</td>\n",
       "      <td>9300</td>\n",
       "      <td>12</td>\n",
       "      <td>1635.0</td>\n",
       "      <td>9300.0</td>\n",
       "      <td>0.175806</td>\n",
       "      <td>2023</td>\n",
       "    </tr>\n",
       "    <tr>\n",
       "      <th>8</th>\n",
       "      <td>2024</td>\n",
       "      <td>January</td>\n",
       "      <td>2038</td>\n",
       "      <td>11234</td>\n",
       "      <td>1</td>\n",
       "      <td>2038.0</td>\n",
       "      <td>11234.0</td>\n",
       "      <td>0.181414</td>\n",
       "      <td>2024</td>\n",
       "    </tr>\n",
       "    <tr>\n",
       "      <th>9</th>\n",
       "      <td>2024</td>\n",
       "      <td>February</td>\n",
       "      <td>1513</td>\n",
       "      <td>8554</td>\n",
       "      <td>2</td>\n",
       "      <td>1513.0</td>\n",
       "      <td>8554.0</td>\n",
       "      <td>0.176876</td>\n",
       "      <td>2024</td>\n",
       "    </tr>\n",
       "    <tr>\n",
       "      <th>10</th>\n",
       "      <td>2024</td>\n",
       "      <td>March</td>\n",
       "      <td>1610</td>\n",
       "      <td>10131</td>\n",
       "      <td>3</td>\n",
       "      <td>1610.0</td>\n",
       "      <td>10131.0</td>\n",
       "      <td>0.158918</td>\n",
       "      <td>2024</td>\n",
       "    </tr>\n",
       "    <tr>\n",
       "      <th>11</th>\n",
       "      <td>2024</td>\n",
       "      <td>April</td>\n",
       "      <td>1429</td>\n",
       "      <td>8379</td>\n",
       "      <td>4</td>\n",
       "      <td>1429.0</td>\n",
       "      <td>8379.0</td>\n",
       "      <td>0.170545</td>\n",
       "      <td>2024</td>\n",
       "    </tr>\n",
       "    <tr>\n",
       "      <th>12</th>\n",
       "      <td>2024</td>\n",
       "      <td>May</td>\n",
       "      <td>1417</td>\n",
       "      <td>8620</td>\n",
       "      <td>5</td>\n",
       "      <td>1417.0</td>\n",
       "      <td>8620.0</td>\n",
       "      <td>0.164385</td>\n",
       "      <td>2024</td>\n",
       "    </tr>\n",
       "    <tr>\n",
       "      <th>13</th>\n",
       "      <td>2024</td>\n",
       "      <td>June</td>\n",
       "      <td>1361</td>\n",
       "      <td>7631</td>\n",
       "      <td>6</td>\n",
       "      <td>1361.0</td>\n",
       "      <td>7631.0</td>\n",
       "      <td>0.178351</td>\n",
       "      <td>2024</td>\n",
       "    </tr>\n",
       "  </tbody>\n",
       "</table>\n",
       "</div>"
      ],
      "text/plain": [
       "    year      month  cost    kwh  month_number  cost_fixed  kwh_fixed  \\\n",
       "0   2023       June  1791   9522             6      1791.0     9522.0   \n",
       "1   2023       July  1717  10238             7      1717.0    10238.0   \n",
       "2   2023     August  1984   9977             8      1984.0     9977.0   \n",
       "3   2023  September   642  10285             9      1668.5     9469.0   \n",
       "4   2023    October  2695   8653            10      1668.5     9469.0   \n",
       "5   2023   November  1579   8102            11      1579.0     8102.0   \n",
       "6   2023   December  1635   9300            12      1635.0     9300.0   \n",
       "8   2024    January  2038  11234             1      2038.0    11234.0   \n",
       "9   2024   February  1513   8554             2      1513.0     8554.0   \n",
       "10  2024      March  1610  10131             3      1610.0    10131.0   \n",
       "11  2024      April  1429   8379             4      1429.0     8379.0   \n",
       "12  2024        May  1417   8620             5      1417.0     8620.0   \n",
       "13  2024       June  1361   7631             6      1361.0     7631.0   \n",
       "\n",
       "    cost_per_kwh_fixed year_str  \n",
       "0             0.188091     2023  \n",
       "1             0.167709     2023  \n",
       "2             0.198857     2023  \n",
       "3             0.176207     2023  \n",
       "4             0.176207     2023  \n",
       "5             0.194890     2023  \n",
       "6             0.175806     2023  \n",
       "8             0.181414     2024  \n",
       "9             0.176876     2024  \n",
       "10            0.158918     2024  \n",
       "11            0.170545     2024  \n",
       "12            0.164385     2024  \n",
       "13            0.178351     2024  "
      ]
     },
     "execution_count": 12,
     "metadata": {},
     "output_type": "execute_result"
    }
   ],
   "source": [
    "from metalog import metalog\n",
    "import numpy as np\n",
    "np.float_ = np.float64\n",
    "\n",
    "\n",
    "df"
   ]
  },
  {
   "cell_type": "code",
   "execution_count": 23,
   "id": "9e722147",
   "metadata": {},
   "outputs": [
    {
     "data": {
      "text/plain": [
       "<Axes: >"
      ]
     },
     "execution_count": 23,
     "metadata": {},
     "output_type": "execute_result"
    },
    {
     "data": {
      "image/png": "[encoded data removed]",
      "text/plain": [
       "<Figure size 640x480 with 1 Axes>"
      ]
     },
     "metadata": {},
     "output_type": "display_data"
    }
   ],
   "source": [
    "df['kwh_fixed'].hist()"
   ]
  },
  {
   "cell_type": "code",
   "execution_count": null,
   "id": "3fa5d353",
   "metadata": {},
   "outputs": [
    {
     "ename": "KeyboardInterrupt",
     "evalue": "",
     "output_type": "error",
     "traceback": [
      "\u001b[31m---------------------------------------------------------------------------\u001b[39m",
      "\u001b[31mKeyboardInterrupt\u001b[39m                         Traceback (most recent call last)",
      "\u001b[36mCell\u001b[39m\u001b[36m \u001b[39m\u001b[32mIn[26]\u001b[39m\u001b[32m, line 3\u001b[39m\n\u001b[32m      1\u001b[39m consumption = np.array(df[\u001b[33m\"\u001b[39m\u001b[33mkwh_fixed\u001b[39m\u001b[33m\"\u001b[39m])\n\u001b[32m----> \u001b[39m\u001b[32m3\u001b[39m dist = \u001b[43mmetalog\u001b[49m\u001b[43m.\u001b[49m\u001b[43mfit\u001b[49m\u001b[43m(\u001b[49m\n\u001b[32m      4\u001b[39m \u001b[43m    \u001b[49m\u001b[43mconsumption\u001b[49m\u001b[43m,\u001b[49m\n\u001b[32m      5\u001b[39m \u001b[43m    \u001b[49m\u001b[43mboundedness\u001b[49m\u001b[43m=\u001b[49m\u001b[33;43m\"\u001b[39;49m\u001b[33;43mu\u001b[39;49m\u001b[33;43m\"\u001b[39;49m\u001b[43m,\u001b[49m\n\u001b[32m      6\u001b[39m \u001b[43m    \u001b[49m\u001b[38;5;66;43;03m# bounds=[6e3, 12e3],\u001b[39;49;00m\n\u001b[32m      7\u001b[39m \u001b[43m    \u001b[49m\u001b[43mterm_limit\u001b[49m\u001b[43m=\u001b[49m\u001b[32;43m3\u001b[39;49m\u001b[43m,\u001b[49m\n\u001b[32m      8\u001b[39m \u001b[43m)\u001b[49m\n",
      "\u001b[36mFile \u001b[39m\u001b[32m~/Documents/portfolio/accelerator/.venv/lib/python3.12/site-packages/metalog/metalog.py:160\u001b[39m, in \u001b[36mfit\u001b[39m\u001b[34m(x, bounds, boundedness, term_limit, term_lower_bound, step_len, probs, fit_method, save_data)\u001b[39m\n\u001b[32m    156\u001b[39m myList[\u001b[33m'\u001b[39m\u001b[33mY\u001b[39m\u001b[33m'\u001b[39m] = Y\n\u001b[32m    158\u001b[39m \u001b[38;5;66;03m# Build a vectors for each term and\u001b[39;00m\n\u001b[32m    159\u001b[39m \u001b[38;5;66;03m# build the metalog m(pdf) and M(quantile) dataframes\u001b[39;00m\n\u001b[32m--> \u001b[39m\u001b[32m160\u001b[39m myList = \u001b[43msupport_func\u001b[49m\u001b[43m.\u001b[49m\u001b[43ma_vector_OLS_and_LP\u001b[49m\u001b[43m(\u001b[49m\u001b[43mmyList\u001b[49m\u001b[43m,\u001b[49m\n\u001b[32m    161\u001b[39m \u001b[43m                             \u001b[49m\u001b[43mterm_limit\u001b[49m\u001b[43m \u001b[49m\u001b[43m=\u001b[49m\u001b[43m \u001b[49m\u001b[43mterm_limit\u001b[49m\u001b[43m,\u001b[49m\n\u001b[32m    162\u001b[39m \u001b[43m                             \u001b[49m\u001b[43mterm_lower_bound\u001b[49m\u001b[43m \u001b[49m\u001b[43m=\u001b[49m\u001b[43m \u001b[49m\u001b[43mterm_lower_bound\u001b[49m\u001b[43m,\u001b[49m\n\u001b[32m    163\u001b[39m \u001b[43m                             \u001b[49m\u001b[43mbounds\u001b[49m\u001b[43m \u001b[49m\u001b[43m=\u001b[49m\u001b[43m \u001b[49m\u001b[43mbounds\u001b[49m\u001b[43m,\u001b[49m\n\u001b[32m    164\u001b[39m \u001b[43m                             \u001b[49m\u001b[43mboundedness\u001b[49m\u001b[43m \u001b[49m\u001b[43m=\u001b[49m\u001b[43m \u001b[49m\u001b[43mboundedness\u001b[49m\u001b[43m,\u001b[49m\n\u001b[32m    165\u001b[39m \u001b[43m                             \u001b[49m\u001b[43mfit_method\u001b[49m\u001b[43m \u001b[49m\u001b[43m=\u001b[49m\u001b[43m \u001b[49m\u001b[43mfit_method\u001b[49m\u001b[43m,\u001b[49m\n\u001b[32m    166\u001b[39m \u001b[43m                             \u001b[49m\u001b[43mdiff_error\u001b[49m\u001b[43m \u001b[49m\u001b[43m=\u001b[49m\u001b[43m \u001b[49m\u001b[32;43m0.001\u001b[39;49m\u001b[43m,\u001b[49m\n\u001b[32m    167\u001b[39m \u001b[43m                             \u001b[49m\u001b[43mdiff_step\u001b[49m\u001b[43m \u001b[49m\u001b[43m=\u001b[49m\u001b[43m \u001b[49m\u001b[32;43m0.001\u001b[39;49m\u001b[43m)\u001b[49m\n\u001b[32m    169\u001b[39m \u001b[38;5;66;03m# Build the Components for Bayesian Updating\u001b[39;00m\n\u001b[32m    170\u001b[39m \u001b[38;5;28;01mif\u001b[39;00m save_data == \u001b[38;5;28;01mTrue\u001b[39;00m \u001b[38;5;129;01mand\u001b[39;00m term_lower_bound <= \u001b[32m3\u001b[39m:\n",
      "\u001b[36mFile \u001b[39m\u001b[32m~/Documents/portfolio/accelerator/.venv/lib/python3.12/site-packages/metalog/support_func.py:373\u001b[39m, in \u001b[36ma_vector_OLS_and_LP\u001b[39m\u001b[34m(myList, term_limit, term_lower_bound, bounds, boundedness, fit_method, diff_error, diff_step)\u001b[39m\n\u001b[32m    371\u001b[39m \u001b[38;5;66;03m# If it is not a valid PDF run and the OLS version was used the LP version\u001b[39;00m\n\u001b[32m    372\u001b[39m \u001b[38;5;28;01mif\u001b[39;00m tempList[\u001b[33m'\u001b[39m\u001b[33mvalid\u001b[39m\u001b[33m'\u001b[39m] == \u001b[33m'\u001b[39m\u001b[33mno\u001b[39m\u001b[33m'\u001b[39m \u001b[38;5;129;01mand\u001b[39;00m fit_method != \u001b[33m'\u001b[39m\u001b[33mOLS\u001b[39m\u001b[33m'\u001b[39m:\n\u001b[32m--> \u001b[39m\u001b[32m373\u001b[39m     temp = \u001b[43ma_vector_LP\u001b[49m\u001b[43m(\u001b[49m\u001b[43mmyList\u001b[49m\u001b[43m,\u001b[49m\u001b[43m \u001b[49m\u001b[43mterm_limit\u001b[49m\u001b[43m \u001b[49m\u001b[43m=\u001b[49m\u001b[43m \u001b[49m\u001b[43mi\u001b[49m\u001b[43m,\u001b[49m\u001b[43m \u001b[49m\u001b[43mterm_lower_bound\u001b[49m\u001b[43m \u001b[49m\u001b[43m=\u001b[49m\u001b[43m \u001b[49m\u001b[43mi\u001b[49m\u001b[43m,\u001b[49m\n\u001b[32m    374\u001b[39m \u001b[43m                       \u001b[49m\u001b[43mdiff_error\u001b[49m\u001b[43m \u001b[49m\u001b[43m=\u001b[49m\u001b[43m \u001b[49m\u001b[43mdiff_error\u001b[49m\u001b[43m,\u001b[49m\u001b[43m \u001b[49m\u001b[43mdiff_step\u001b[49m\u001b[43m \u001b[49m\u001b[43m=\u001b[49m\u001b[43m \u001b[49m\u001b[43mdiff_step\u001b[49m\u001b[43m)\u001b[49m\n\u001b[32m    375\u001b[39m     temp = np.append(temp, np.zeros(term_limit - i))\n\u001b[32m    376\u001b[39m     methodFit = \u001b[33m'\u001b[39m\u001b[33mLinear Program\u001b[39m\u001b[33m'\u001b[39m\n",
      "\u001b[36mFile \u001b[39m\u001b[32m~/Documents/portfolio/accelerator/.venv/lib/python3.12/site-packages/metalog/support_func.py:491\u001b[39m, in \u001b[36ma_vector_LP\u001b[39m\u001b[34m(myList, term_limit, term_lower_bound, diff_error, diff_step)\u001b[39m\n\u001b[32m    488\u001b[39m f_ineq_rhs = -np.repeat(diff_error, \u001b[38;5;28mlen\u001b[39m(diff_mat[:, \u001b[32m0\u001b[39m]))\n\u001b[32m    490\u001b[39m \u001b[38;5;66;03m# Solving the linear program\u001b[39;00m\n\u001b[32m--> \u001b[39m\u001b[32m491\u001b[39m lp_sol = \u001b[43mlinprog\u001b[49m\u001b[43m(\u001b[49m\u001b[43mc\u001b[49m\u001b[43m=\u001b[49m\u001b[43mf_obj\u001b[49m\u001b[43m,\u001b[49m\n\u001b[32m    492\u001b[39m \u001b[43m                 \u001b[49m\u001b[43mA_ub\u001b[49m\u001b[43m=\u001b[49m\u001b[43mf_ineq_coef\u001b[49m\u001b[43m,\u001b[49m\u001b[43m \u001b[49m\u001b[43mb_ub\u001b[49m\u001b[43m=\u001b[49m\u001b[43mf_ineq_rhs\u001b[49m\u001b[43m,\u001b[49m\n\u001b[32m    493\u001b[39m \u001b[43m                 \u001b[49m\u001b[43mA_eq\u001b[49m\u001b[43m=\u001b[49m\u001b[43mf_eq_coef\u001b[49m\u001b[43m,\u001b[49m\u001b[43m \u001b[49m\u001b[43mb_eq\u001b[49m\u001b[43m=\u001b[49m\u001b[43mf_eq_rhs\u001b[49m\u001b[43m,\u001b[49m\n\u001b[32m    494\u001b[39m \u001b[43m                 \u001b[49m\u001b[43mmethod\u001b[49m\u001b[43m=\u001b[49m\u001b[33;43m'\u001b[39;49m\u001b[33;43mrevised simplex\u001b[39;49m\u001b[33;43m'\u001b[39;49m\u001b[43m)\u001b[49m\n\u001b[32m    496\u001b[39m \u001b[38;5;66;03m# Consolidating solution back into the vector\u001b[39;00m\n\u001b[32m    497\u001b[39m tempLP = lp_sol[\u001b[33m'\u001b[39m\u001b[33mx\u001b[39m\u001b[33m'\u001b[39m][ (\u001b[32m2\u001b[39m * \u001b[38;5;28mlen\u001b[39m(Y.iloc[:, \u001b[32m0\u001b[39m])) : \u001b[38;5;28mlen\u001b[39m(lp_sol[\u001b[33m'\u001b[39m\u001b[33mx\u001b[39m\u001b[33m'\u001b[39m])]\n",
      "\u001b[36mFile \u001b[39m\u001b[32m~/Documents/portfolio/accelerator/.venv/lib/python3.12/site-packages/scipy/optimize/_linprog.py:708\u001b[39m, in \u001b[36mlinprog\u001b[39m\u001b[34m(c, A_ub, b_ub, A_eq, b_eq, bounds, method, callback, options, x0, integrality)\u001b[39m\n\u001b[32m    704\u001b[39m         x, status, message, iteration = _linprog_ip(\n\u001b[32m    705\u001b[39m             c, c0=c0, A=A, b=b, callback=callback,\n\u001b[32m    706\u001b[39m             postsolve_args=postsolve_args, **solver_options)\n\u001b[32m    707\u001b[39m     \u001b[38;5;28;01melif\u001b[39;00m meth == \u001b[33m'\u001b[39m\u001b[33mrevised simplex\u001b[39m\u001b[33m'\u001b[39m:\n\u001b[32m--> \u001b[39m\u001b[32m708\u001b[39m         x, status, message, iteration = \u001b[43m_linprog_rs\u001b[49m\u001b[43m(\u001b[49m\n\u001b[32m    709\u001b[39m \u001b[43m            \u001b[49m\u001b[43mc\u001b[49m\u001b[43m,\u001b[49m\u001b[43m \u001b[49m\u001b[43mc0\u001b[49m\u001b[43m=\u001b[49m\u001b[43mc0\u001b[49m\u001b[43m,\u001b[49m\u001b[43m \u001b[49m\u001b[43mA\u001b[49m\u001b[43m=\u001b[49m\u001b[43mA\u001b[49m\u001b[43m,\u001b[49m\u001b[43m \u001b[49m\u001b[43mb\u001b[49m\u001b[43m=\u001b[49m\u001b[43mb\u001b[49m\u001b[43m,\u001b[49m\u001b[43m \u001b[49m\u001b[43mx0\u001b[49m\u001b[43m=\u001b[49m\u001b[43mx0\u001b[49m\u001b[43m,\u001b[49m\u001b[43m \u001b[49m\u001b[43mcallback\u001b[49m\u001b[43m=\u001b[49m\u001b[43mcallback\u001b[49m\u001b[43m,\u001b[49m\n\u001b[32m    710\u001b[39m \u001b[43m            \u001b[49m\u001b[43mpostsolve_args\u001b[49m\u001b[43m=\u001b[49m\u001b[43mpostsolve_args\u001b[49m\u001b[43m,\u001b[49m\u001b[43m \u001b[49m\u001b[43m*\u001b[49m\u001b[43m*\u001b[49m\u001b[43msolver_options\u001b[49m\u001b[43m)\u001b[49m\n\u001b[32m    712\u001b[39m \u001b[38;5;66;03m# Eliminate artificial variables, re-introduce presolved variables, etc.\u001b[39;00m\n\u001b[32m    713\u001b[39m disp = solver_options.get(\u001b[33m'\u001b[39m\u001b[33mdisp\u001b[39m\u001b[33m'\u001b[39m, \u001b[38;5;28;01mFalse\u001b[39;00m)\n",
      "\u001b[36mFile \u001b[39m\u001b[32m~/Documents/portfolio/accelerator/.venv/lib/python3.12/site-packages/scipy/optimize/_linprog_rs.py:562\u001b[39m, in \u001b[36m_linprog_rs\u001b[39m\u001b[34m(c, c0, A, b, x0, callback, postsolve_args, maxiter, tol, disp, maxupdate, mast, pivot, **unknown_options)\u001b[39m\n\u001b[32m    558\u001b[39m \u001b[38;5;28;01mif\u001b[39;00m A.size == \u001b[32m0\u001b[39m:  \u001b[38;5;66;03m# address test_unbounded_below_no_presolve_corrected\u001b[39;00m\n\u001b[32m    559\u001b[39m     \u001b[38;5;28;01mreturn\u001b[39;00m np.zeros(c.shape), \u001b[32m5\u001b[39m, messages[\u001b[32m5\u001b[39m], \u001b[32m0\u001b[39m\n\u001b[32m    561\u001b[39m x, basis, A, b, residual, status, iteration = (\n\u001b[32m--> \u001b[39m\u001b[32m562\u001b[39m     \u001b[43m_phase_one\u001b[49m\u001b[43m(\u001b[49m\u001b[43mA\u001b[49m\u001b[43m,\u001b[49m\u001b[43m \u001b[49m\u001b[43mb\u001b[49m\u001b[43m,\u001b[49m\u001b[43m \u001b[49m\u001b[43mx0\u001b[49m\u001b[43m,\u001b[49m\u001b[43m \u001b[49m\u001b[43mcallback\u001b[49m\u001b[43m,\u001b[49m\u001b[43m \u001b[49m\u001b[43mpostsolve_args\u001b[49m\u001b[43m,\u001b[49m\n\u001b[32m    563\u001b[39m \u001b[43m               \u001b[49m\u001b[43mmaxiter\u001b[49m\u001b[43m,\u001b[49m\u001b[43m \u001b[49m\u001b[43mtol\u001b[49m\u001b[43m,\u001b[49m\u001b[43m \u001b[49m\u001b[43mdisp\u001b[49m\u001b[43m,\u001b[49m\u001b[43m \u001b[49m\u001b[43mmaxupdate\u001b[49m\u001b[43m,\u001b[49m\u001b[43m \u001b[49m\u001b[43mmast\u001b[49m\u001b[43m,\u001b[49m\u001b[43m \u001b[49m\u001b[43mpivot\u001b[49m\u001b[43m)\u001b[49m)\n\u001b[32m    565\u001b[39m \u001b[38;5;28;01mif\u001b[39;00m status == \u001b[32m0\u001b[39m:\n\u001b[32m    566\u001b[39m     x, basis, status, iteration = _phase_two(c, A, x, basis, callback,\n\u001b[32m    567\u001b[39m                                              postsolve_args,\n\u001b[32m    568\u001b[39m                                              maxiter, tol, disp,\n\u001b[32m    569\u001b[39m                                              maxupdate, mast, pivot,\n\u001b[32m    570\u001b[39m                                              iteration)\n",
      "\u001b[36mFile \u001b[39m\u001b[32m~/Documents/portfolio/accelerator/.venv/lib/python3.12/site-packages/scipy/optimize/_linprog_rs.py:60\u001b[39m, in \u001b[36m_phase_one\u001b[39m\u001b[34m(A, b, x0, callback, postsolve_args, maxiter, tol, disp, maxupdate, mast, pivot)\u001b[39m\n\u001b[32m     58\u001b[39m phase_one_n = n\n\u001b[32m     59\u001b[39m iter_k = \u001b[32m0\u001b[39m\n\u001b[32m---> \u001b[39m\u001b[32m60\u001b[39m x, basis, status, iter_k = \u001b[43m_phase_two\u001b[49m\u001b[43m(\u001b[49m\u001b[43mc\u001b[49m\u001b[43m,\u001b[49m\u001b[43m \u001b[49m\u001b[43mA\u001b[49m\u001b[43m,\u001b[49m\u001b[43m \u001b[49m\u001b[43mx\u001b[49m\u001b[43m,\u001b[49m\u001b[43m \u001b[49m\u001b[43mbasis\u001b[49m\u001b[43m,\u001b[49m\u001b[43m \u001b[49m\u001b[43mcallback\u001b[49m\u001b[43m,\u001b[49m\n\u001b[32m     61\u001b[39m \u001b[43m                                      \u001b[49m\u001b[43mpostsolve_args\u001b[49m\u001b[43m,\u001b[49m\n\u001b[32m     62\u001b[39m \u001b[43m                                      \u001b[49m\u001b[43mmaxiter\u001b[49m\u001b[43m,\u001b[49m\u001b[43m \u001b[49m\u001b[43mtol\u001b[49m\u001b[43m,\u001b[49m\u001b[43m \u001b[49m\u001b[43mdisp\u001b[49m\u001b[43m,\u001b[49m\n\u001b[32m     63\u001b[39m \u001b[43m                                      \u001b[49m\u001b[43mmaxupdate\u001b[49m\u001b[43m,\u001b[49m\u001b[43m \u001b[49m\u001b[43mmast\u001b[49m\u001b[43m,\u001b[49m\u001b[43m \u001b[49m\u001b[43mpivot\u001b[49m\u001b[43m,\u001b[49m\n\u001b[32m     64\u001b[39m \u001b[43m                                      \u001b[49m\u001b[43miter_k\u001b[49m\u001b[43m,\u001b[49m\u001b[43m \u001b[49m\u001b[43mphase_one_n\u001b[49m\u001b[43m)\u001b[49m\n\u001b[32m     66\u001b[39m \u001b[38;5;66;03m# check for infeasibility\u001b[39;00m\n\u001b[32m     67\u001b[39m residual = c.dot(x)\n",
      "\u001b[36mFile \u001b[39m\u001b[32m~/Documents/portfolio/accelerator/.venv/lib/python3.12/site-packages/scipy/optimize/_linprog_rs.py:401\u001b[39m, in \u001b[36m_phase_two\u001b[39m\u001b[34m(c, A, x, b, callback, postsolve_args, maxiter, tol, disp, maxupdate, mast, pivot, iteration, phase_one_n)\u001b[39m\n\u001b[32m    399\u001b[39m     x[b] = x[b] - th_star*u     \u001b[38;5;66;03m# take step\u001b[39;00m\n\u001b[32m    400\u001b[39m     x[j] = th_star\n\u001b[32m--> \u001b[39m\u001b[32m401\u001b[39m     \u001b[43mB\u001b[49m\u001b[43m.\u001b[49m\u001b[43mupdate\u001b[49m\u001b[43m(\u001b[49m\u001b[43mab\u001b[49m\u001b[43m[\u001b[49m\u001b[43mi\u001b[49m\u001b[43m]\u001b[49m\u001b[43m[\u001b[49m\u001b[43ml\u001b[49m\u001b[43m]\u001b[49m\u001b[43m,\u001b[49m\u001b[43m \u001b[49m\u001b[43mj\u001b[49m\u001b[43m)\u001b[49m       \u001b[38;5;66;03m# modify basis\u001b[39;00m\n\u001b[32m    402\u001b[39m     b = B.b                     \u001b[38;5;66;03m# similar to b[ab[i][l]] =\u001b[39;00m\n\u001b[32m    404\u001b[39m \u001b[38;5;28;01melse\u001b[39;00m:\n\u001b[32m    405\u001b[39m     \u001b[38;5;66;03m# If the end of the for loop is reached (without a break statement),\u001b[39;00m\n\u001b[32m    406\u001b[39m     \u001b[38;5;66;03m# then another step has been taken, so the iteration counter should\u001b[39;00m\n\u001b[32m    407\u001b[39m     \u001b[38;5;66;03m# increment, info should be displayed, and callback should be called.\u001b[39;00m\n",
      "\u001b[36mFile \u001b[39m\u001b[32m_bglu_dense.pyx:157\u001b[39m, in \u001b[36mscipy.optimize._bglu_dense._consider_refactor.f\u001b[39m\u001b[34m()\u001b[39m\n",
      "\u001b[36mFile \u001b[39m\u001b[32m_bglu_dense.pyx:164\u001b[39m, in \u001b[36mscipy.optimize._bglu_dense._consider_refactor.f\u001b[39m\u001b[34m()\u001b[39m\n",
      "\u001b[36mFile \u001b[39m\u001b[32m_bglu_dense.pyx:251\u001b[39m, in \u001b[36mscipy.optimize._bglu_dense.BGLU.refactor\u001b[39m\u001b[34m()\u001b[39m\n",
      "\u001b[36mFile \u001b[39m\u001b[32m~/Documents/portfolio/accelerator/.venv/lib/python3.12/site-packages/scipy/linalg/_decomp_lu.py:119\u001b[39m, in \u001b[36mlu_factor\u001b[39m\u001b[34m(a, overwrite_a, check_finite)\u001b[39m\n\u001b[32m    116\u001b[39m overwrite_a = overwrite_a \u001b[38;5;129;01mor\u001b[39;00m (_datacopied(a1, a))\n\u001b[32m    118\u001b[39m getrf, = get_lapack_funcs((\u001b[33m'\u001b[39m\u001b[33mgetrf\u001b[39m\u001b[33m'\u001b[39m,), (a1,))\n\u001b[32m--> \u001b[39m\u001b[32m119\u001b[39m lu, piv, info = \u001b[43mgetrf\u001b[49m\u001b[43m(\u001b[49m\u001b[43ma1\u001b[49m\u001b[43m,\u001b[49m\u001b[43m \u001b[49m\u001b[43moverwrite_a\u001b[49m\u001b[43m=\u001b[49m\u001b[43moverwrite_a\u001b[49m\u001b[43m)\u001b[49m\n\u001b[32m    120\u001b[39m \u001b[38;5;28;01mif\u001b[39;00m info < \u001b[32m0\u001b[39m:\n\u001b[32m    121\u001b[39m     \u001b[38;5;28;01mraise\u001b[39;00m \u001b[38;5;167;01mValueError\u001b[39;00m(\u001b[33m'\u001b[39m\u001b[33millegal value in \u001b[39m\u001b[38;5;132;01m%d\u001b[39;00m\u001b[33mth argument of \u001b[39m\u001b[33m'\u001b[39m\n\u001b[32m    122\u001b[39m                      \u001b[33m'\u001b[39m\u001b[33minternal getrf (lu_factor)\u001b[39m\u001b[33m'\u001b[39m % -info)\n",
      "\u001b[31mKeyboardInterrupt\u001b[39m: "
     ]
    }
   ],
   "source": [
    "consumption = np.array(df[\"kwh_fixed\"])\n",
    "\n",
    "dist = metalog.fit(\n",
    "    consumption,\n",
    "    boundedness=\"u\",\n",
    "    bounds=[6e3, 12e3],\n",
    "    term_limit=3,\n",
    ")"
   ]
  },
  {
   "cell_type": "code",
   "execution_count": 29,
   "id": "64e5b54d",
   "metadata": {},
   "outputs": [
    {
     "data": {
      "text/html": [
       "<div>\n",
       "<style scoped>\n",
       "    .dataframe tbody tr th:only-of-type {\n",
       "        vertical-align: middle;\n",
       "    }\n",
       "\n",
       "    .dataframe tbody tr th {\n",
       "        vertical-align: top;\n",
       "    }\n",
       "\n",
       "    .dataframe thead th {\n",
       "        text-align: right;\n",
       "    }\n",
       "</style>\n",
       "<table border=\"1\" class=\"dataframe\">\n",
       "  <thead>\n",
       "    <tr style=\"text-align: right;\">\n",
       "      <th></th>\n",
       "      <th>Zone</th>\n",
       "      <th>Vegetation</th>\n",
       "      <th>Year</th>\n",
       "      <th>Date</th>\n",
       "      <th>Species</th>\n",
       "      <th>Length</th>\n",
       "      <th>Dominant_age_group</th>\n",
       "      <th>Latitude</th>\n",
       "      <th>Longitude</th>\n",
       "    </tr>\n",
       "  </thead>\n",
       "  <tbody>\n",
       "    <tr>\n",
       "      <th>0</th>\n",
       "      <td>3</td>\n",
       "      <td>Eelgrass</td>\n",
       "      <td>2008</td>\n",
       "      <td>5/27/2008</td>\n",
       "      <td>Chinook_salmon</td>\n",
       "      <td>83</td>\n",
       "      <td>No</td>\n",
       "      <td>48.32099</td>\n",
       "      <td>-122.49460</td>\n",
       "    </tr>\n",
       "    <tr>\n",
       "      <th>1</th>\n",
       "      <td>1</td>\n",
       "      <td>Eelgrass</td>\n",
       "      <td>2008</td>\n",
       "      <td>5/28/2008</td>\n",
       "      <td>Chinook_salmon</td>\n",
       "      <td>76</td>\n",
       "      <td>No</td>\n",
       "      <td>48.37636</td>\n",
       "      <td>-122.55731</td>\n",
       "    </tr>\n",
       "    <tr>\n",
       "      <th>2</th>\n",
       "      <td>1</td>\n",
       "      <td>Eelgrass</td>\n",
       "      <td>2008</td>\n",
       "      <td>5/28/2008</td>\n",
       "      <td>Chinook_salmon</td>\n",
       "      <td>92</td>\n",
       "      <td>No</td>\n",
       "      <td>48.37636</td>\n",
       "      <td>-122.55731</td>\n",
       "    </tr>\n",
       "    <tr>\n",
       "      <th>3</th>\n",
       "      <td>3</td>\n",
       "      <td>Eelgrass</td>\n",
       "      <td>2008</td>\n",
       "      <td>6/25/2008</td>\n",
       "      <td>Chinook_salmon</td>\n",
       "      <td>57</td>\n",
       "      <td>Yes</td>\n",
       "      <td>48.31565</td>\n",
       "      <td>-122.48015</td>\n",
       "    </tr>\n",
       "    <tr>\n",
       "      <th>4</th>\n",
       "      <td>3</td>\n",
       "      <td>Eelgrass</td>\n",
       "      <td>2008</td>\n",
       "      <td>6/25/2008</td>\n",
       "      <td>Chinook_salmon</td>\n",
       "      <td>65</td>\n",
       "      <td>Yes</td>\n",
       "      <td>48.31278</td>\n",
       "      <td>-122.48617</td>\n",
       "    </tr>\n",
       "    <tr>\n",
       "      <th>...</th>\n",
       "      <td>...</td>\n",
       "      <td>...</td>\n",
       "      <td>...</td>\n",
       "      <td>...</td>\n",
       "      <td>...</td>\n",
       "      <td>...</td>\n",
       "      <td>...</td>\n",
       "      <td>...</td>\n",
       "      <td>...</td>\n",
       "    </tr>\n",
       "    <tr>\n",
       "      <th>2424</th>\n",
       "      <td>1</td>\n",
       "      <td>Eelgrass</td>\n",
       "      <td>2009</td>\n",
       "      <td>6/16/2009</td>\n",
       "      <td>Chinook_salmon</td>\n",
       "      <td>72</td>\n",
       "      <td>Yes</td>\n",
       "      <td>48.38291</td>\n",
       "      <td>-122.54931</td>\n",
       "    </tr>\n",
       "    <tr>\n",
       "      <th>2425</th>\n",
       "      <td>1</td>\n",
       "      <td>Eelgrass</td>\n",
       "      <td>2009</td>\n",
       "      <td>6/16/2009</td>\n",
       "      <td>Chinook_salmon</td>\n",
       "      <td>74</td>\n",
       "      <td>Yes</td>\n",
       "      <td>48.38291</td>\n",
       "      <td>-122.54931</td>\n",
       "    </tr>\n",
       "    <tr>\n",
       "      <th>2454</th>\n",
       "      <td>1</td>\n",
       "      <td>Eelgrass</td>\n",
       "      <td>2009</td>\n",
       "      <td>6/16/2009</td>\n",
       "      <td>Chinook_salmon</td>\n",
       "      <td>81</td>\n",
       "      <td>Yes</td>\n",
       "      <td>48.37383</td>\n",
       "      <td>-122.55555</td>\n",
       "    </tr>\n",
       "    <tr>\n",
       "      <th>2455</th>\n",
       "      <td>1</td>\n",
       "      <td>Eelgrass</td>\n",
       "      <td>2009</td>\n",
       "      <td>6/16/2009</td>\n",
       "      <td>Chinook_salmon</td>\n",
       "      <td>96</td>\n",
       "      <td>Yes</td>\n",
       "      <td>48.37383</td>\n",
       "      <td>-122.55555</td>\n",
       "    </tr>\n",
       "    <tr>\n",
       "      <th>2456</th>\n",
       "      <td>1</td>\n",
       "      <td>Eelgrass</td>\n",
       "      <td>2009</td>\n",
       "      <td>6/16/2009</td>\n",
       "      <td>Chinook_salmon</td>\n",
       "      <td>82</td>\n",
       "      <td>Yes</td>\n",
       "      <td>48.37383</td>\n",
       "      <td>-122.55555</td>\n",
       "    </tr>\n",
       "  </tbody>\n",
       "</table>\n",
       "<p>138 rows × 9 columns</p>\n",
       "</div>"
      ],
      "text/plain": [
       "      Zone Vegetation  Year       Date         Species  Length  \\\n",
       "0        3   Eelgrass  2008  5/27/2008  Chinook_salmon      83   \n",
       "1        1   Eelgrass  2008  5/28/2008  Chinook_salmon      76   \n",
       "2        1   Eelgrass  2008  5/28/2008  Chinook_salmon      92   \n",
       "3        3   Eelgrass  2008  6/25/2008  Chinook_salmon      57   \n",
       "4        3   Eelgrass  2008  6/25/2008  Chinook_salmon      65   \n",
       "...    ...        ...   ...        ...             ...     ...   \n",
       "2424     1   Eelgrass  2009  6/16/2009  Chinook_salmon      72   \n",
       "2425     1   Eelgrass  2009  6/16/2009  Chinook_salmon      74   \n",
       "2454     1   Eelgrass  2009  6/16/2009  Chinook_salmon      81   \n",
       "2455     1   Eelgrass  2009  6/16/2009  Chinook_salmon      96   \n",
       "2456     1   Eelgrass  2009  6/16/2009  Chinook_salmon      82   \n",
       "\n",
       "     Dominant_age_group  Latitude  Longitude  \n",
       "0                    No  48.32099 -122.49460  \n",
       "1                    No  48.37636 -122.55731  \n",
       "2                    No  48.37636 -122.55731  \n",
       "3                   Yes  48.31565 -122.48015  \n",
       "4                   Yes  48.31278 -122.48617  \n",
       "...                 ...       ...        ...  \n",
       "2424                Yes  48.38291 -122.54931  \n",
       "2425                Yes  48.38291 -122.54931  \n",
       "2454                Yes  48.37383 -122.55555  \n",
       "2455                Yes  48.37383 -122.55555  \n",
       "2456                Yes  48.37383 -122.55555  \n",
       "\n",
       "[138 rows x 9 columns]"
      ]
     },
     "execution_count": 29,
     "metadata": {},
     "output_type": "execute_result"
    }
   ],
   "source": [
    "import numpy as np\n",
    "import pandas as pd\n",
    "\n",
    "salmon = pd.read_csv(\"Chinook and forage fish lengths.csv\")\n",
    "\n",
    "# Filtered data for eelgrass vegetation and chinook salmon\n",
    "salmon = salmon[(salmon['Vegetation'] == 'Eelgrass') & (salmon['Species'] == 'Chinook_salmon')]\n",
    "# salmon = np.array(salmon['Length'])\n",
    "salmon "
   ]
  },
  {
   "cell_type": "code",
   "execution_count": 22,
   "id": "d8f3d393",
   "metadata": {},
   "outputs": [],
   "source": [
    "metalog_salmon = metalog.fit(x=salmon, boundedness='b', bounds=[0, 200], term_limit=10)\n"
   ]
  }
 ],
 "metadata": {
  "kernelspec": {
   "display_name": ".venv",
   "language": "python",
   "name": "python3"
  },
  "language_info": {
   "codemirror_mode": {
    "name": "ipython",
    "version": 3
   },
   "file_extension": ".py",
   "mimetype": "text/x-python",
   "name": "python",
   "nbconvert_exporter": "python",
   "pygments_lexer": "ipython3",
   "version": "3.12.4"
  }
 },
 "nbformat": 4,
 "nbformat_minor": 5
}
