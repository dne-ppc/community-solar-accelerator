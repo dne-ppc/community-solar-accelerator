{
 "cells": [
  {
   "cell_type": "code",
   "execution_count": null,
   "id": "0b1e223d",
   "metadata": {},
   "outputs": [],
   "source": [
    "import pandas as pd\n",
    "import plotly.express as px\n",
    "\n",
    "def get_trendline_df(var_name,fig):\n",
    "    trend_results = px.get_trendline_results(fig)\n",
    "    formulas = []\n",
    "    for idx in big_site_df[var_name].unique():\n",
    "        res = trend_results.loc[trend_results[var_name] == idx, 'px_fit_results']\n",
    "        if not res.empty:\n",
    "            model = res.iloc[0]\n",
    "            params = model.params\n",
    "            intercept,slope = params\n",
    "            formula = f'y = {slope:.4f}·x + {intercept:.4f}'\n",
    "            formulas.append({\n",
    "                var_name: idx,\n",
    "                'Slope': slope,\n",
    "                'Intercept': intercept,\n",
    "                'Formula': formula,\n",
    "                'R-squared': model.rsquared\n",
    "            })\n",
    "\n",
    "    return pd.DataFrame(formulas)\n",
    "\n",
    "# Load the combined CSV\n",
    "df = pd.read_csv('power_summary_combined_all.csv')\n",
    "# df = df[df['Total kWh'] > 1000]  # Filter out rows with Total kWh > 1000\n",
    "big_site_df = df[~df['Name'].str.contains('#')]  # Filter out rows with Total kWh > 1000\n",
    "small_site_df = df[df['Name'].str.contains('#')] \n"
   ]
  },
  {
   "cell_type": "code",
   "execution_count": null,
   "id": "8d231cfe",
   "metadata": {},
   "outputs": [
    {
     "data": {
      "application/vnd.plotly.v1+json": {
       "config": {
        "plotlyServerURL": "https://plot.ly"
       },
       "data": [
        {
         "hovertemplate": "Name=602 2 AVE NW<br>Total kWh=%{x}<br>Total Cost=%{y}<extra></extra>",
         "legendgroup": "602 2 AVE NW",
         "marker": {
          "color": "#636efa",
          "symbol": "circle"
         },
         "mode": "markers",
         "name": "602 2 AVE NW",
         "orientation": "v",
         "showlegend": true,
         "type": "scatter",
         "x": {
          "bdata": "pHA9Cpfts0D2KFyPwr+xQK5H4XoUK7BAmpmZmRknsUC4HoXrkd6xQI/C9ShcwbJAcT0K1yMOtEDD9ShcT5+yQHsUrkchG7FAH4XrUbjZrkDhehSux3ivQDMzMzMzKaxA",
          "dtype": "f8"
         },
         "xaxis": "x",
         "y": {
          "bdata": "MzMzMzMThEDhehSuR7WDQClcj8L1iIBA16NwPQppgkDNzMzMzOCCQEjhehSuqYRAw/UoXI90h0CuR+F6FHaFQMP1KFyPCINASOF6FK5RgUCamZmZmRODQIXrUbgeCYFA",
          "dtype": "f8"
         },
         "yaxis": "y"
        },
        {
         "hovertemplate": "<b>OLS trendline</b><br>Total = 0.112883 * Total kWh + 115.274<br>R<sup>2</sup>=0.702228<br><br>Name=602 2 AVE NW<br>Total kWh=%{x}<br>Total Cost=%{y} <b>(trend)</b><extra></extra>",
         "legendgroup": "602 2 AVE NW",
         "marker": {
          "color": "#636efa",
          "symbol": "circle"
         },
         "mode": "lines",
         "name": "602 2 AVE NW",
         "showlegend": false,
         "type": "scatter",
         "x": {
          "bdata": "MzMzMzMprEAfhetRuNmuQOF6FK7HeK9ArkfhehQrsEB7FK5HIRuxQJqZmZkZJ7FA9ihcj8K/sUC4HoXrkd6xQMP1KFxPn7JAj8L1KFzBskCkcD0Kl+2zQHE9CtcjDrRA",
          "dtype": "f8"
         },
         "xaxis": "x",
         "y": {
          "bdata": "0FPC82FRgEBiUDasRYiBQCCtM88X0IFAhtIMqw00gkCR4LGb1QyDQNK+ROSkF4NAYQzglIGhg0AinZBjVL2DQC0Ya/hia4RAXsQg0SKKhEDZriR3Q5mFQMD914iotoVA",
          "dtype": "f8"
         },
         "yaxis": "y"
        },
        {
         "hovertemplate": "Name=612 2 AVE NW<br>Total kWh=%{x}<br>Total Cost=%{y}<extra></extra>",
         "legendgroup": "612 2 AVE NW",
         "marker": {
          "color": "#EF553B",
          "symbol": "circle"
         },
         "mode": "markers",
         "name": "612 2 AVE NW",
         "orientation": "v",
         "showlegend": true,
         "type": "scatter",
         "x": {
          "bdata": "AAAAAABciEAzMzMzM7MnQK5H4XoUsoVAmpmZmZkZJUCPwvUoXLmAQI/C9ShcjytAw/UoXI8Mh0DD9ShcjwIwQLgehetR7IhAzczMzMyMNEDD9Shcj4iHQOF6FK5HYUJAj8L1KFxViUDNzMzMzFRgQJqZmZmZX4VASOF6FK5XWkD2KFyPwtGDQOxRuB6FM25AFK5H4Xo+hECamZmZmZk3QAAAAAAASodAZmZmZmYmNUAAAAAAALSCQJqZmZmZmS5A",
          "dtype": "f8"
         },
         "xaxis": "x",
         "y": {
          "bdata": "MzMzMzPbYkAfhetRuD5PQM3MzMzMRGFACtejcD2KTUCuR+F6FAZgQJqZmZmZuUxAAAAAAABYY0CkcD0K1xNRQK5H4XoUtmJAw/UoXI+CT0A9CtejcOViQDMzMzMzQ1JA16NwPQrnYkBxPQrXo8BRQK5H4XoUJmNAH4XrUbhOU0DNzMzMzHRhQHE9CtejMFFACtejcD2aYUCuR+F6FO5FQFK4HoXroWNAw/UoXI/SUEDD9Shcj2JgQClcj8L1qEtA",
          "dtype": "f8"
         },
         "yaxis": "y"
        },
        {
         "hovertemplate": "<b>OLS trendline</b><br>Total = 0.123632 * Total kWh + 58.0001<br>R<sup>2</sup>=0.968012<br><br>Name=612 2 AVE NW<br>Total kWh=%{x}<br>Total Cost=%{y} <b>(trend)</b><extra></extra>",
         "legendgroup": "612 2 AVE NW",
         "marker": {
          "color": "#EF553B",
          "symbol": "circle"
         },
         "mode": "lines",
         "name": "612 2 AVE NW",
         "showlegend": false,
         "type": "scatter",
         "x": {
          "bdata": "mpmZmZkZJUAzMzMzM7MnQI/C9ShcjytAmpmZmZmZLkDD9ShcjwIwQM3MzMzMjDRAZmZmZmYmNUCamZmZmZk3QOF6FK5HYUJASOF6FK5XWkDNzMzMzFRgQOxRuB6FM25Aj8L1KFy5gEAAAAAAALSCQPYoXI/C0YNAFK5H4Xo+hECamZmZmV+FQK5H4XoUsoVAw/UoXI8Mh0AAAAAAAEqHQMP1KFyPiIdAAAAAAABciEC4HoXrUeyIQI/C9ShcVYlA",
          "dtype": "f8"
         },
         "xaxis": "x",
         "y": {
          "bdata": "t436yvimTUBqaUdSi7tNQAKUNRcW2k1AJcS64CPyTUDXjnA2YP1NQE0A+4w4RU5AxqCUQbdOTkAM8AejfHVOQJl8MRy+RU9A21voo77BUUC7w4yAxYlSQLggCry891VApWDYUIQKX0B1BAJmzn9gQEJ/8GUfDWFAwGiWRONCYUAJxh+k3dFhQJy684un+mFAtw0Ip/+lYkDWqPPoYcRiQB46aPVR42JA8gpEGuJLY0D7zcbnQJNjQIRFz+Myx2NA",
          "dtype": "f8"
         },
         "yaxis": "y"
        },
        {
         "hovertemplate": "Name=709 2 AVE NW<br>Total kWh=%{x}<br>Total Cost=%{y}<extra></extra>",
         "legendgroup": "709 2 AVE NW",
         "marker": {
          "color": "#00cc96",
          "symbol": "circle"
         },
         "mode": "markers",
         "name": "709 2 AVE NW",
         "orientation": "v",
         "showlegend": true,
         "type": "scatter",
         "x": {
          "bdata": "ZmZmZgbOxUBcj8L1qGvDQKRwPQq3eMRAZmZmZiaJw0AfhetR+OfBQArXo3BdisNAw/UoXK8EwkBcj8L1yKzBQAAAAABgNsFAuB6F61FFv0CF61G4PjXAQB+F61H4P75A",
          "dtype": "f8"
         },
         "xaxis": "x",
         "y": {
          "bdata": "MzMzMzN0mkAK16NwPTidQOF6FK5HHplAw/UoXI/AmUAfhetRuHiZQIXrUbgeAZxASOF6FK5YmUB7FK5H4eGVQJqZmZmZsJRAH4XrUbhblkC4HoXrUbSWQB+F61G4w5VA",
          "dtype": "f8"
         },
         "yaxis": "y"
        },
        {
         "hovertemplate": "<b>OLS trendline</b><br>Total = 0.119823 * Total kWh + 454.739<br>R<sup>2</sup>=0.521353<br><br>Name=709 2 AVE NW<br>Total kWh=%{x}<br>Total Cost=%{y} <b>(trend)</b><extra></extra>",
         "legendgroup": "709 2 AVE NW",
         "marker": {
          "color": "#00cc96",
          "symbol": "circle"
         },
         "mode": "lines",
         "name": "709 2 AVE NW",
         "showlegend": false,
         "type": "scatter",
         "x": {
          "bdata": "H4XrUfg/vkC4HoXrUUW/QIXrUbg+NcBAAAAAAGA2wUBcj8L1yKzBQB+F61H458FAw/UoXK8EwkBcj8L1qGvDQGZmZmYmicNACtejcF2Kw0CkcD0Kt3jEQGZmZmYGzsVA",
          "dtype": "f8"
         },
         "xaxis": "x",
         "y": {
          "bdata": "iZgZ9JaalUAI2fNe2heWQI5JGBNepJZAYVUnVNmal0AeNr3vWgyYQM2+F9UWRZhACz6BcZ1gmEDwtnpIubiZQOjn5xP+1JlAqoKUPCjWmUDoP1fporqaQJH+fsrPAZxA",
          "dtype": "f8"
         },
         "yaxis": "y"
        },
        {
         "hovertemplate": "Name=806 10 ST NW<br>Total kWh=%{x}<br>Total Cost=%{y}<extra></extra>",
         "legendgroup": "806 10 ST NW",
         "marker": {
          "color": "#ab63fa",
          "symbol": "circle"
         },
         "mode": "markers",
         "name": "806 10 ST NW",
         "orientation": "v",
         "showlegend": true,
         "type": "scatter",
         "x": {
          "bdata": "4XoUrgfquUBxPQrXoxS3QEjhehTulbRA4XoUrkc6t0CPwvUoHNO1QGZmZmZmcrVApHA9ChdetkBSuB6F6560QNejcD1Kf7NACtejcL1Xs0BI4XoULre1QK5H4XoUZLNA",
          "dtype": "f8"
         },
         "xaxis": "x",
         "y": {
          "bdata": "CtejcD2ekUAfhetRuPORQFyPwvUo1I9ArkfhehSfkUDhehSuR2SRQLgehetRGJJAmpmZmZkvkECkcD0K1yePQNejcD0KM4xAuB6F61GIj0B7FK5H4V2RQFyPwvUoPpBA",
          "dtype": "f8"
         },
         "yaxis": "y"
        },
        {
         "hovertemplate": "<b>OLS trendline</b><br>Total = 0.107446 * Total kWh + 472.064<br>R<sup>2</sup>=0.465221<br><br>Name=806 10 ST NW<br>Total kWh=%{x}<br>Total Cost=%{y} <b>(trend)</b><extra></extra>",
         "legendgroup": "806 10 ST NW",
         "marker": {
          "color": "#ab63fa",
          "symbol": "circle"
         },
         "mode": "lines",
         "name": "806 10 ST NW",
         "showlegend": false,
         "type": "scatter",
         "x": {
          "bdata": "CtejcL1Xs0CuR+F6FGSzQNejcD1Kf7NASOF6FO6VtEBSuB6F6560QGZmZmZmcrVASOF6FC63tUCPwvUoHNO1QKRwPQoXXrZAcT0K16MUt0DhehSuRzq3QOF6FK4H6rlA",
          "dtype": "f8"
         },
         "xaxis": "x",
         "y": {
          "bdata": "mf0n5dpgj0AbIm5LdmuPQPNJC9HZgo9AFi6pEy45kEByN/cxCz2QQLW+3SHvl5BAiulgmn61kEAC5dyUf8GQQMb/6sE6/ZBAMpgdsa9LkUCSBJUB3VuRQOgXZTZyg5JA",
          "dtype": "f8"
         },
         "yaxis": "y"
        },
        {
         "hovertemplate": "Name=206 10A ST NW<br>Total kWh=%{x}<br>Total Cost=%{y}<extra></extra>",
         "legendgroup": "206 10A ST NW",
         "marker": {
          "color": "#FFA15A",
          "symbol": "circle"
         },
         "mode": "markers",
         "name": "206 10A ST NW",
         "orientation": "v",
         "showlegend": true,
         "type": "scatter",
         "x": {
          "bdata": "ZmZmZrYd1ECF61G4nurRQHsUrkehm85AzczMzGwEzkDsUbge5azLQOxRuB4luMxAw/UoXG9BzUDD9ShcbzHKQLgehesRl8lACtejcL3SyEA9CtejsInLQMP1KFzPRstA",
          "dtype": "f8"
         },
         "xaxis": "x",
         "y": {
          "bdata": "rkfhehQnpUC4HoXrUSOmQMP1KFwPU6FA4XoUrsd+okCF61G4niiiQFyPwvUoh6FAPQrXo/DyoEBxPQrXo9qeQD0K16NwCZ1ACtejcD1boEAK16NwPf2hQFK4HoXruKBA",
          "dtype": "f8"
         },
         "yaxis": "y"
        },
        {
         "hovertemplate": "<b>OLS trendline</b><br>Total = 0.10623 * Total kWh + 666.017<br>R<sup>2</sup>=0.765845<br><br>Name=206 10A ST NW<br>Total kWh=%{x}<br>Total Cost=%{y} <b>(trend)</b><extra></extra>",
         "legendgroup": "206 10A ST NW",
         "marker": {
          "color": "#FFA15A",
          "symbol": "circle"
         },
         "mode": "lines",
         "name": "206 10A ST NW",
         "showlegend": false,
         "type": "scatter",
         "x": {
          "bdata": "CtejcL3SyEC4HoXrEZfJQMP1KFxvMcpAw/UoXM9Gy0A9CtejsInLQOxRuB7lrMtA7FG4HiW4zEDD9Shcb0HNQM3MzMxsBM5AexSuR6GbzkCF61G4nurRQGZmZma2HdRA",
          "dtype": "f8"
         },
         "xaxis": "x",
         "y": {
          "bdata": "tGaUBZSAn0DmUm6xthOgQEn9Y3FOVaBA4SwyKSvLoEDpSrtVluegQDB97+qL9qBAxOU8PhtooUBaaC6VcaKhQF74GIBM9aFA1tnHgYw1okCr8PcS7W2kQNXcqO52TKZA",
          "dtype": "f8"
         },
         "yaxis": "y"
        }
       ],
       "layout": {
        "height": 600,
        "legend": {
         "title": {
          "text": "Name"
         },
         "tracegroupgap": 0
        },
        "template": {
         "data": {
          "bar": [
           {
            "error_x": {
             "color": "#2a3f5f"
            },
            "error_y": {
             "color": "#2a3f5f"
            },
            "marker": {
             "line": {
              "color": "#E5ECF6",
              "width": 0.5
             },
             "pattern": {
              "fillmode": "overlay",
              "size": 10,
              "solidity": 0.2
             }
            },
            "type": "bar"
           }
          ],
          "barpolar": [
           {
            "marker": {
             "line": {
              "color": "#E5ECF6",
              "width": 0.5
             },
             "pattern": {
              "fillmode": "overlay",
              "size": 10,
              "solidity": 0.2
             }
            },
            "type": "barpolar"
           }
          ],
          "carpet": [
           {
            "aaxis": {
             "endlinecolor": "#2a3f5f",
             "gridcolor": "white",
             "linecolor": "white",
             "minorgridcolor": "white",
             "startlinecolor": "#2a3f5f"
            },
            "baxis": {
             "endlinecolor": "#2a3f5f",
             "gridcolor": "white",
             "linecolor": "white",
             "minorgridcolor": "white",
             "startlinecolor": "#2a3f5f"
            },
            "type": "carpet"
           }
          ],
          "choropleth": [
           {
            "colorbar": {
             "outlinewidth": 0,
             "ticks": ""
            },
            "type": "choropleth"
           }
          ],
          "contour": [
           {
            "colorbar": {
             "outlinewidth": 0,
             "ticks": ""
            },
            "colorscale": [
             [
              0,
              "#0d0887"
             ],
             [
              0.1111111111111111,
              "#46039f"
             ],
             [
              0.2222222222222222,
              "#7201a8"
             ],
             [
              0.3333333333333333,
              "#9c179e"
             ],
             [
              0.4444444444444444,
              "#bd3786"
             ],
             [
              0.5555555555555556,
              "#d8576b"
             ],
             [
              0.6666666666666666,
              "#ed7953"
             ],
             [
              0.7777777777777778,
              "#fb9f3a"
             ],
             [
              0.8888888888888888,
              "#fdca26"
             ],
             [
              1,
              "#f0f921"
             ]
            ],
            "type": "contour"
           }
          ],
          "contourcarpet": [
           {
            "colorbar": {
             "outlinewidth": 0,
             "ticks": ""
            },
            "type": "contourcarpet"
           }
          ],
          "heatmap": [
           {
            "colorbar": {
             "outlinewidth": 0,
             "ticks": ""
            },
            "colorscale": [
             [
              0,
              "#0d0887"
             ],
             [
              0.1111111111111111,
              "#46039f"
             ],
             [
              0.2222222222222222,
              "#7201a8"
             ],
             [
              0.3333333333333333,
              "#9c179e"
             ],
             [
              0.4444444444444444,
              "#bd3786"
             ],
             [
              0.5555555555555556,
              "#d8576b"
             ],
             [
              0.6666666666666666,
              "#ed7953"
             ],
             [
              0.7777777777777778,
              "#fb9f3a"
             ],
             [
              0.8888888888888888,
              "#fdca26"
             ],
             [
              1,
              "#f0f921"
             ]
            ],
            "type": "heatmap"
           }
          ],
          "histogram": [
           {
            "marker": {
             "pattern": {
              "fillmode": "overlay",
              "size": 10,
              "solidity": 0.2
             }
            },
            "type": "histogram"
           }
          ],
          "histogram2d": [
           {
            "colorbar": {
             "outlinewidth": 0,
             "ticks": ""
            },
            "colorscale": [
             [
              0,
              "#0d0887"
             ],
             [
              0.1111111111111111,
              "#46039f"
             ],
             [
              0.2222222222222222,
              "#7201a8"
             ],
             [
              0.3333333333333333,
              "#9c179e"
             ],
             [
              0.4444444444444444,
              "#bd3786"
             ],
             [
              0.5555555555555556,
              "#d8576b"
             ],
             [
              0.6666666666666666,
              "#ed7953"
             ],
             [
              0.7777777777777778,
              "#fb9f3a"
             ],
             [
              0.8888888888888888,
              "#fdca26"
             ],
             [
              1,
              "#f0f921"
             ]
            ],
            "type": "histogram2d"
           }
          ],
          "histogram2dcontour": [
           {
            "colorbar": {
             "outlinewidth": 0,
             "ticks": ""
            },
            "colorscale": [
             [
              0,
              "#0d0887"
             ],
             [
              0.1111111111111111,
              "#46039f"
             ],
             [
              0.2222222222222222,
              "#7201a8"
             ],
             [
              0.3333333333333333,
              "#9c179e"
             ],
             [
              0.4444444444444444,
              "#bd3786"
             ],
             [
              0.5555555555555556,
              "#d8576b"
             ],
             [
              0.6666666666666666,
              "#ed7953"
             ],
             [
              0.7777777777777778,
              "#fb9f3a"
             ],
             [
              0.8888888888888888,
              "#fdca26"
             ],
             [
              1,
              "#f0f921"
             ]
            ],
            "type": "histogram2dcontour"
           }
          ],
          "mesh3d": [
           {
            "colorbar": {
             "outlinewidth": 0,
             "ticks": ""
            },
            "type": "mesh3d"
           }
          ],
          "parcoords": [
           {
            "line": {
             "colorbar": {
              "outlinewidth": 0,
              "ticks": ""
             }
            },
            "type": "parcoords"
           }
          ],
          "pie": [
           {
            "automargin": true,
            "type": "pie"
           }
          ],
          "scatter": [
           {
            "fillpattern": {
             "fillmode": "overlay",
             "size": 10,
             "solidity": 0.2
            },
            "type": "scatter"
           }
          ],
          "scatter3d": [
           {
            "line": {
             "colorbar": {
              "outlinewidth": 0,
              "ticks": ""
             }
            },
            "marker": {
             "colorbar": {
              "outlinewidth": 0,
              "ticks": ""
             }
            },
            "type": "scatter3d"
           }
          ],
          "scattercarpet": [
           {
            "marker": {
             "colorbar": {
              "outlinewidth": 0,
              "ticks": ""
             }
            },
            "type": "scattercarpet"
           }
          ],
          "scattergeo": [
           {
            "marker": {
             "colorbar": {
              "outlinewidth": 0,
              "ticks": ""
             }
            },
            "type": "scattergeo"
           }
          ],
          "scattergl": [
           {
            "marker": {
             "colorbar": {
              "outlinewidth": 0,
              "ticks": ""
             }
            },
            "type": "scattergl"
           }
          ],
          "scattermap": [
           {
            "marker": {
             "colorbar": {
              "outlinewidth": 0,
              "ticks": ""
             }
            },
            "type": "scattermap"
           }
          ],
          "scattermapbox": [
           {
            "marker": {
             "colorbar": {
              "outlinewidth": 0,
              "ticks": ""
             }
            },
            "type": "scattermapbox"
           }
          ],
          "scatterpolar": [
           {
            "marker": {
             "colorbar": {
              "outlinewidth": 0,
              "ticks": ""
             }
            },
            "type": "scatterpolar"
           }
          ],
          "scatterpolargl": [
           {
            "marker": {
             "colorbar": {
              "outlinewidth": 0,
              "ticks": ""
             }
            },
            "type": "scatterpolargl"
           }
          ],
          "scatterternary": [
           {
            "marker": {
             "colorbar": {
              "outlinewidth": 0,
              "ticks": ""
             }
            },
            "type": "scatterternary"
           }
          ],
          "surface": [
           {
            "colorbar": {
             "outlinewidth": 0,
             "ticks": ""
            },
            "colorscale": [
             [
              0,
              "#0d0887"
             ],
             [
              0.1111111111111111,
              "#46039f"
             ],
             [
              0.2222222222222222,
              "#7201a8"
             ],
             [
              0.3333333333333333,
              "#9c179e"
             ],
             [
              0.4444444444444444,
              "#bd3786"
             ],
             [
              0.5555555555555556,
              "#d8576b"
             ],
             [
              0.6666666666666666,
              "#ed7953"
             ],
             [
              0.7777777777777778,
              "#fb9f3a"
             ],
             [
              0.8888888888888888,
              "#fdca26"
             ],
             [
              1,
              "#f0f921"
             ]
            ],
            "type": "surface"
           }
          ],
          "table": [
           {
            "cells": {
             "fill": {
              "color": "#EBF0F8"
             },
             "line": {
              "color": "white"
             }
            },
            "header": {
             "fill": {
              "color": "#C8D4E3"
             },
             "line": {
              "color": "white"
             }
            },
            "type": "table"
           }
          ]
         },
         "layout": {
          "annotationdefaults": {
           "arrowcolor": "#2a3f5f",
           "arrowhead": 0,
           "arrowwidth": 1
          },
          "autotypenumbers": "strict",
          "coloraxis": {
           "colorbar": {
            "outlinewidth": 0,
            "ticks": ""
           }
          },
          "colorscale": {
           "diverging": [
            [
             0,
             "#8e0152"
            ],
            [
             0.1,
             "#c51b7d"
            ],
            [
             0.2,
             "#de77ae"
            ],
            [
             0.3,
             "#f1b6da"
            ],
            [
             0.4,
             "#fde0ef"
            ],
            [
             0.5,
             "#f7f7f7"
            ],
            [
             0.6,
             "#e6f5d0"
            ],
            [
             0.7,
             "#b8e186"
            ],
            [
             0.8,
             "#7fbc41"
            ],
            [
             0.9,
             "#4d9221"
            ],
            [
             1,
             "#276419"
            ]
           ],
           "sequential": [
            [
             0,
             "#0d0887"
            ],
            [
             0.1111111111111111,
             "#46039f"
            ],
            [
             0.2222222222222222,
             "#7201a8"
            ],
            [
             0.3333333333333333,
             "#9c179e"
            ],
            [
             0.4444444444444444,
             "#bd3786"
            ],
            [
             0.5555555555555556,
             "#d8576b"
            ],
            [
             0.6666666666666666,
             "#ed7953"
            ],
            [
             0.7777777777777778,
             "#fb9f3a"
            ],
            [
             0.8888888888888888,
             "#fdca26"
            ],
            [
             1,
             "#f0f921"
            ]
           ],
           "sequentialminus": [
            [
             0,
             "#0d0887"
            ],
            [
             0.1111111111111111,
             "#46039f"
            ],
            [
             0.2222222222222222,
             "#7201a8"
            ],
            [
             0.3333333333333333,
             "#9c179e"
            ],
            [
             0.4444444444444444,
             "#bd3786"
            ],
            [
             0.5555555555555556,
             "#d8576b"
            ],
            [
             0.6666666666666666,
             "#ed7953"
            ],
            [
             0.7777777777777778,
             "#fb9f3a"
            ],
            [
             0.8888888888888888,
             "#fdca26"
            ],
            [
             1,
             "#f0f921"
            ]
           ]
          },
          "colorway": [
           "#636efa",
           "#EF553B",
           "#00cc96",
           "#ab63fa",
           "#FFA15A",
           "#19d3f3",
           "#FF6692",
           "#B6E880",
           "#FF97FF",
           "#FECB52"
          ],
          "font": {
           "color": "#2a3f5f"
          },
          "geo": {
           "bgcolor": "white",
           "lakecolor": "white",
           "landcolor": "#E5ECF6",
           "showlakes": true,
           "showland": true,
           "subunitcolor": "white"
          },
          "hoverlabel": {
           "align": "left"
          },
          "hovermode": "closest",
          "mapbox": {
           "style": "light"
          },
          "paper_bgcolor": "white",
          "plot_bgcolor": "#E5ECF6",
          "polar": {
           "angularaxis": {
            "gridcolor": "white",
            "linecolor": "white",
            "ticks": ""
           },
           "bgcolor": "#E5ECF6",
           "radialaxis": {
            "gridcolor": "white",
            "linecolor": "white",
            "ticks": ""
           }
          },
          "scene": {
           "xaxis": {
            "backgroundcolor": "#E5ECF6",
            "gridcolor": "white",
            "gridwidth": 2,
            "linecolor": "white",
            "showbackground": true,
            "ticks": "",
            "zerolinecolor": "white"
           },
           "yaxis": {
            "backgroundcolor": "#E5ECF6",
            "gridcolor": "white",
            "gridwidth": 2,
            "linecolor": "white",
            "showbackground": true,
            "ticks": "",
            "zerolinecolor": "white"
           },
           "zaxis": {
            "backgroundcolor": "#E5ECF6",
            "gridcolor": "white",
            "gridwidth": 2,
            "linecolor": "white",
            "showbackground": true,
            "ticks": "",
            "zerolinecolor": "white"
           }
          },
          "shapedefaults": {
           "line": {
            "color": "#2a3f5f"
           }
          },
          "ternary": {
           "aaxis": {
            "gridcolor": "white",
            "linecolor": "white",
            "ticks": ""
           },
           "baxis": {
            "gridcolor": "white",
            "linecolor": "white",
            "ticks": ""
           },
           "bgcolor": "#E5ECF6",
           "caxis": {
            "gridcolor": "white",
            "linecolor": "white",
            "ticks": ""
           }
          },
          "title": {
           "x": 0.05
          },
          "xaxis": {
           "automargin": true,
           "gridcolor": "white",
           "linecolor": "white",
           "ticks": "",
           "title": {
            "standoff": 15
           },
           "zerolinecolor": "white",
           "zerolinewidth": 2
          },
          "yaxis": {
           "automargin": true,
           "gridcolor": "white",
           "linecolor": "white",
           "ticks": "",
           "title": {
            "standoff": 15
           },
           "zerolinecolor": "white",
           "zerolinewidth": 2
          }
         }
        },
        "title": {
         "text": "Total Cost vs Total kWh with per Site"
        },
        "width": 800,
        "xaxis": {
         "anchor": "y",
         "domain": [
          0,
          1
         ],
         "title": {
          "text": "Total kWh"
         }
        },
        "yaxis": {
         "anchor": "x",
         "domain": [
          0,
          1
         ],
         "title": {
          "text": "Total Cost"
         }
        }
       }
      }
     },
     "metadata": {},
     "output_type": "display_data"
    }
   ],
   "source": [
    "# Create scatter plot with OLS trendlines per address (Name)\n",
    "fig = px.scatter(\n",
    "    big_site_df,\n",
    "    x='Total kWh',\n",
    "    y='Total',\n",
    "    color='Name',\n",
    "    trendline='ols',\n",
    "    trendline_scope='trace',\n",
    "    labels={\n",
    "        # 'Total KWh': 'Total kWh',\n",
    "        'Total': 'Total Cost',\n",
    "        # 'Name': 'Name'\n",
    "    },\n",
    "    title='Total Cost vs Total kWh with per Site',\n",
    "        height= 600,\n",
    "    width= 800\n",
    ")\n",
    "fig.show()\n",
    "\n",
    "site_formulas = get_trendline_df('Name',fig)\n"
   ]
  },
  {
   "cell_type": "code",
   "execution_count": 3,
   "id": "c77b4c01",
   "metadata": {},
   "outputs": [],
   "source": [
    "annual_average = big_site_df.groupby('Name').agg({'Total kWh': 'mean', 'Total': 'mean'}).reset_index()\n",
    "\n",
    "mask = annual_average['Total kWh'] < 5000\n",
    "\n",
    "\n",
    "annual_average.loc[mask,'Rate Code'] = 'D200'\n",
    "annual_average.loc[~mask,'Rate Code'] = 'D300'\n",
    "rate_code_mapping = annual_average.set_index('Name').to_dict('dict')['Rate Code']"
   ]
  },
  {
   "cell_type": "code",
   "execution_count": 4,
   "id": "8e8ed92c",
   "metadata": {},
   "outputs": [
    {
     "data": {
      "text/plain": [
       "'Billing data for 2 sites with D200 rate code and 3 sites with D300 rate code was used to calculate trendlines using ordinary least squares.'"
      ]
     },
     "execution_count": 4,
     "metadata": {},
     "output_type": "execute_result"
    }
   ],
   "source": [
    "d200_sites_n  = mask.sum()\n",
    "d300_sites_n  = (~mask).sum()\n",
    "\n",
    "f\"Billing data for {d200_sites_n} sites with D200 rate code and {d300_sites_n} sites with D300 rate code was used to calculate trendlines using ordinary least squares.\""
   ]
  },
  {
   "cell_type": "code",
   "execution_count": null,
   "id": "e11898a7",
   "metadata": {},
   "outputs": [
    {
     "name": "stderr",
     "output_type": "stream",
     "text": [
      "/tmp/ipykernel_7809/3510004705.py:2: SettingWithCopyWarning:\n",
      "\n",
      "\n",
      "A value is trying to be set on a copy of a slice from a DataFrame.\n",
      "Try using .loc[row_indexer,col_indexer] = value instead\n",
      "\n",
      "See the caveats in the documentation: https://pandas.pydata.org/pandas-docs/stable/user_guide/indexing.html#returning-a-view-versus-a-copy\n",
      "\n"
     ]
    },
    {
     "data": {
      "application/vnd.plotly.v1+json": {
       "config": {
        "plotlyServerURL": "https://plot.ly"
       },
       "data": [
        {
         "hovertemplate": "Rate Code=D200<br>Total kWh=%{x}<br>Total Cost=%{y}<extra></extra>",
         "legendgroup": "D200",
         "marker": {
          "color": "#636efa",
          "symbol": "circle"
         },
         "mode": "markers",
         "name": "D200",
         "orientation": "v",
         "showlegend": true,
         "type": "scatter",
         "x": {
          "bdata": "pHA9Cpfts0AAAAAAAFyIQDMzMzMzsydA9ihcj8K/sUCuR+F6FLKFQJqZmZmZGSVArkfhehQrsECPwvUoXLmAQI/C9ShcjytAmpmZmRknsUDD9ShcjwyHQMP1KFyPAjBAuB6F65HesUC4HoXrUeyIQM3MzMzMjDRAj8L1KFzBskDD9Shcj4iHQOF6FK5HYUJAcT0K1yMOtECPwvUoXFWJQM3MzMzMVGBAw/UoXE+fskCamZmZmV+FQEjhehSuV1pAexSuRyEbsUD2KFyPwtGDQOxRuB6FM25AH4XrUbjZrkAUrkfhej6EQJqZmZmZmTdA4XoUrsd4r0AAAAAAAEqHQGZmZmZmJjVAMzMzMzMprEAAAAAAALSCQJqZmZmZmS5A",
          "dtype": "f8"
         },
         "xaxis": "x",
         "y": {
          "bdata": "MzMzMzMThEAzMzMzM9tiQB+F61G4Pk9A4XoUrke1g0DNzMzMzERhQArXo3A9ik1AKVyPwvWIgECuR+F6FAZgQJqZmZmZuUxA16NwPQppgkAAAAAAAFhjQKRwPQrXE1FAzczMzMzggkCuR+F6FLZiQMP1KFyPgk9ASOF6FK6phEA9CtejcOViQDMzMzMzQ1JAw/UoXI90h0DXo3A9CudiQHE9CtejwFFArkfhehR2hUCuR+F6FCZjQB+F61G4TlNAw/UoXI8Ig0DNzMzMzHRhQHE9CtejMFFASOF6FK5RgUAK16NwPZphQK5H4XoU7kVAmpmZmZkTg0BSuB6F66FjQMP1KFyP0lBAhetRuB4JgUDD9Shcj2JgQClcj8L1qEtA",
          "dtype": "f8"
         },
         "yaxis": "y"
        },
        {
         "hovertemplate": "<b>OLS trendline</b><br>Total = 0.125676 * Total kWh + 57.5964<br>R<sup>2</sup>=0.993307<br><br>Rate Code=D200<br>Total kWh=%{x}<br>Total Cost=%{y} <b>(trend)</b><extra></extra>",
         "legendgroup": "D200",
         "marker": {
          "color": "#636efa",
          "symbol": "circle"
         },
         "mode": "lines",
         "name": "D200",
         "showlegend": false,
         "type": "scatter",
         "x": {
          "bdata": "mpmZmZkZJUAzMzMzM7MnQI/C9ShcjytAmpmZmZmZLkDD9ShcjwIwQM3MzMzMjDRAZmZmZmYmNUCamZmZmZk3QOF6FK5HYUJASOF6FK5XWkDNzMzMzFRgQOxRuB6FM25Aj8L1KFy5gEAAAAAAALSCQPYoXI/C0YNAFK5H4Xo+hECamZmZmV+FQK5H4XoUsoVAw/UoXI8Mh0AAAAAAAEqHQMP1KFyPiIdAAAAAAABciEC4HoXrUeyIQI/C9ShcVYlAMzMzMzMprEAfhetRuNmuQOF6FK7HeK9ArkfhehQrsEB7FK5HIRuxQJqZmZkZJ7FA9ihcj8K/sUC4HoXrkd6xQMP1KFxPn7JAj8L1KFzBskCkcD0Kl+2zQHE9CtcjDrRA",
          "dtype": "f8"
         },
         "xaxis": "x",
         "y": {
          "bdata": "pULbzgx2TUCkX25k9opNQLVJ6GcCqk1AcbY5+3XCTUA8iavc4c1NQAIOvTnqFk5A7rhPHJEgTkAySNGO+kdOQJ51pk2tG09A3sAhga+1UUAXSe/QBIFSQPBJC1J//VVAEo6qKqw2X0CjqwaQBppgQHUKhZGtKWFAgSV99FRgYUDW+6FdrPFhQDkcSeAiG2JAyepQDlDJYkAidFnjMuhiQP3P7tqlB2NAqjARevBxY0BLk85LfbpjQB3WrhhL72NAkK5bhbbpf0B7Vlg6+k6BQA8wXPfvnoFA9lwgyTkOgkA7fPbHkv+CQMCPeKqbC4NATCbJ4helg0AMdvHhEcSDQMwvMwzahYRACWbT9xWohEBgvv1S8NWFQOgJNyuq9oVA",
          "dtype": "f8"
         },
         "yaxis": "y"
        },
        {
         "hovertemplate": "Rate Code=D300<br>Total kWh=%{x}<br>Total Cost=%{y}<extra></extra>",
         "legendgroup": "D300",
         "marker": {
          "color": "#EF553B",
          "symbol": "circle"
         },
         "mode": "markers",
         "name": "D300",
         "orientation": "v",
         "showlegend": true,
         "type": "scatter",
         "x": {
          "bdata": "ZmZmZgbOxUDhehSuB+q5QGZmZma2HdRAXI/C9ahrw0BxPQrXoxS3QIXrUbie6tFApHA9Crd4xEBI4XoU7pW0QHsUrkehm85AZmZmZiaJw0DhehSuRzq3QM3MzMxsBM5AH4XrUfjnwUCPwvUoHNO1QOxRuB7lrMtACtejcF2Kw0BmZmZmZnK1QOxRuB4luMxAw/UoXK8EwkCkcD0KF162QMP1KFxvQc1AXI/C9ciswUBSuB6F6560QMP1KFxvMcpAAAAAAGA2wUDXo3A9Sn+zQLgehesRl8lAuB6F61FFv0AK16NwvVezQArXo3C90shAhetRuD41wEBI4XoULre1QD0K16OwictAH4XrUfg/vkCuR+F6FGSzQMP1KFzPRstA",
          "dtype": "f8"
         },
         "xaxis": "x",
         "y": {
          "bdata": "MzMzMzN0mkAK16NwPZ6RQK5H4XoUJ6VACtejcD04nUAfhetRuPORQLgehetRI6ZA4XoUrkcemUBcj8L1KNSPQMP1KFwPU6FAw/UoXI/AmUCuR+F6FJ+RQOF6FK7HfqJAH4XrUbh4mUDhehSuR2SRQIXrUbieKKJAhetRuB4BnEC4HoXrURiSQFyPwvUoh6FASOF6FK5YmUCamZmZmS+QQD0K16Pw8qBAexSuR+HhlUCkcD0K1yePQHE9Ctej2p5AmpmZmZmwlEDXo3A9CjOMQD0K16NwCZ1AH4XrUbhblkC4HoXrUYiPQArXo3A9W6BAuB6F61G0lkB7FK5H4V2RQArXo3A9/aFAH4XrUbjDlUBcj8L1KD6QQFK4HoXruKBA",
          "dtype": "f8"
         },
         "yaxis": "y"
        },
        {
         "hovertemplate": "<b>OLS trendline</b><br>Total = 0.123478 * Total kWh + 403.275<br>R<sup>2</sup>=0.958736<br><br>Rate Code=D300<br>Total kWh=%{x}<br>Total Cost=%{y} <b>(trend)</b><extra></extra>",
         "legendgroup": "D300",
         "marker": {
          "color": "#EF553B",
          "symbol": "circle"
         },
         "mode": "lines",
         "name": "D300",
         "showlegend": false,
         "type": "scatter",
         "x": {
          "bdata": "CtejcL1Xs0CuR+F6FGSzQNejcD1Kf7NASOF6FO6VtEBSuB6F6560QGZmZmZmcrVASOF6FC63tUCPwvUoHNO1QKRwPQoXXrZAcT0K16MUt0DhehSuRzq3QOF6FK4H6rlAH4XrUfg/vkC4HoXrUUW/QIXrUbg+NcBAAAAAAGA2wUBcj8L1yKzBQB+F61H458FAw/UoXK8EwkBcj8L1qGvDQGZmZmYmicNACtejcF2Kw0CkcD0Kt3jEQGZmZmYGzsVACtejcL3SyEC4HoXrEZfJQMP1KFxvMcpAw/UoXM9Gy0A9CtejsInLQOxRuB7lrMtA7FG4HiW4zEDD9Shcb0HNQM3MzMxsBM5AexSuR6GbzkCF61G4nurRQGZmZma2HdRA",
          "dtype": "f8"
         },
         "xaxis": "x",
         "y": {
          "bdata": "CAb7waG1j0CMGZtS0sGPQOymhj6z3I9As/qDJ/l3kEAEW/3baXyQQOVWcpzd5JBA/iDfOdYGkUDl2HG5oRSRQLiBJIBGWZFAHpMeUHCzkUCNnMeNB8aRQAR/lWG3GZNAfmU+Wu09lUCaCBi4Ar+VQPjBkHDPT5ZAscOwAs9Nl0DfWkDHxsKXQNeKxpo9/ZdA2xYbHZsZmEDW8OZ1NXyZQEDLCfRWmZlAXHl7NIqamUDlqHWm/IWaQK5UxdUj15tA49+/nXHSnkAS28f0YZSfQO8GuQxvFqBAl9ROom6foECWPs8Cd8CgQHZmLl7a0aBA/jOVvNlVoUC87dPTqJmhQPINApH3+aFAHCGYFaZEokD1z1DjTtmkQOm43uSKBadA",
          "dtype": "f8"
         },
         "yaxis": "y"
        }
       ],
       "layout": {
        "height": 600,
        "legend": {
         "title": {
          "text": "Rate Code"
         },
         "tracegroupgap": 0
        },
        "template": {
         "data": {
          "bar": [
           {
            "error_x": {
             "color": "#2a3f5f"
            },
            "error_y": {
             "color": "#2a3f5f"
            },
            "marker": {
             "line": {
              "color": "#E5ECF6",
              "width": 0.5
             },
             "pattern": {
              "fillmode": "overlay",
              "size": 10,
              "solidity": 0.2
             }
            },
            "type": "bar"
           }
          ],
          "barpolar": [
           {
            "marker": {
             "line": {
              "color": "#E5ECF6",
              "width": 0.5
             },
             "pattern": {
              "fillmode": "overlay",
              "size": 10,
              "solidity": 0.2
             }
            },
            "type": "barpolar"
           }
          ],
          "carpet": [
           {
            "aaxis": {
             "endlinecolor": "#2a3f5f",
             "gridcolor": "white",
             "linecolor": "white",
             "minorgridcolor": "white",
             "startlinecolor": "#2a3f5f"
            },
            "baxis": {
             "endlinecolor": "#2a3f5f",
             "gridcolor": "white",
             "linecolor": "white",
             "minorgridcolor": "white",
             "startlinecolor": "#2a3f5f"
            },
            "type": "carpet"
           }
          ],
          "choropleth": [
           {
            "colorbar": {
             "outlinewidth": 0,
             "ticks": ""
            },
            "type": "choropleth"
           }
          ],
          "contour": [
           {
            "colorbar": {
             "outlinewidth": 0,
             "ticks": ""
            },
            "colorscale": [
             [
              0,
              "#0d0887"
             ],
             [
              0.1111111111111111,
              "#46039f"
             ],
             [
              0.2222222222222222,
              "#7201a8"
             ],
             [
              0.3333333333333333,
              "#9c179e"
             ],
             [
              0.4444444444444444,
              "#bd3786"
             ],
             [
              0.5555555555555556,
              "#d8576b"
             ],
             [
              0.6666666666666666,
              "#ed7953"
             ],
             [
              0.7777777777777778,
              "#fb9f3a"
             ],
             [
              0.8888888888888888,
              "#fdca26"
             ],
             [
              1,
              "#f0f921"
             ]
            ],
            "type": "contour"
           }
          ],
          "contourcarpet": [
           {
            "colorbar": {
             "outlinewidth": 0,
             "ticks": ""
            },
            "type": "contourcarpet"
           }
          ],
          "heatmap": [
           {
            "colorbar": {
             "outlinewidth": 0,
             "ticks": ""
            },
            "colorscale": [
             [
              0,
              "#0d0887"
             ],
             [
              0.1111111111111111,
              "#46039f"
             ],
             [
              0.2222222222222222,
              "#7201a8"
             ],
             [
              0.3333333333333333,
              "#9c179e"
             ],
             [
              0.4444444444444444,
              "#bd3786"
             ],
             [
              0.5555555555555556,
              "#d8576b"
             ],
             [
              0.6666666666666666,
              "#ed7953"
             ],
             [
              0.7777777777777778,
              "#fb9f3a"
             ],
             [
              0.8888888888888888,
              "#fdca26"
             ],
             [
              1,
              "#f0f921"
             ]
            ],
            "type": "heatmap"
           }
          ],
          "histogram": [
           {
            "marker": {
             "pattern": {
              "fillmode": "overlay",
              "size": 10,
              "solidity": 0.2
             }
            },
            "type": "histogram"
           }
          ],
          "histogram2d": [
           {
            "colorbar": {
             "outlinewidth": 0,
             "ticks": ""
            },
            "colorscale": [
             [
              0,
              "#0d0887"
             ],
             [
              0.1111111111111111,
              "#46039f"
             ],
             [
              0.2222222222222222,
              "#7201a8"
             ],
             [
              0.3333333333333333,
              "#9c179e"
             ],
             [
              0.4444444444444444,
              "#bd3786"
             ],
             [
              0.5555555555555556,
              "#d8576b"
             ],
             [
              0.6666666666666666,
              "#ed7953"
             ],
             [
              0.7777777777777778,
              "#fb9f3a"
             ],
             [
              0.8888888888888888,
              "#fdca26"
             ],
             [
              1,
              "#f0f921"
             ]
            ],
            "type": "histogram2d"
           }
          ],
          "histogram2dcontour": [
           {
            "colorbar": {
             "outlinewidth": 0,
             "ticks": ""
            },
            "colorscale": [
             [
              0,
              "#0d0887"
             ],
             [
              0.1111111111111111,
              "#46039f"
             ],
             [
              0.2222222222222222,
              "#7201a8"
             ],
             [
              0.3333333333333333,
              "#9c179e"
             ],
             [
              0.4444444444444444,
              "#bd3786"
             ],
             [
              0.5555555555555556,
              "#d8576b"
             ],
             [
              0.6666666666666666,
              "#ed7953"
             ],
             [
              0.7777777777777778,
              "#fb9f3a"
             ],
             [
              0.8888888888888888,
              "#fdca26"
             ],
             [
              1,
              "#f0f921"
             ]
            ],
            "type": "histogram2dcontour"
           }
          ],
          "mesh3d": [
           {
            "colorbar": {
             "outlinewidth": 0,
             "ticks": ""
            },
            "type": "mesh3d"
           }
          ],
          "parcoords": [
           {
            "line": {
             "colorbar": {
              "outlinewidth": 0,
              "ticks": ""
             }
            },
            "type": "parcoords"
           }
          ],
          "pie": [
           {
            "automargin": true,
            "type": "pie"
           }
          ],
          "scatter": [
           {
            "fillpattern": {
             "fillmode": "overlay",
             "size": 10,
             "solidity": 0.2
            },
            "type": "scatter"
           }
          ],
          "scatter3d": [
           {
            "line": {
             "colorbar": {
              "outlinewidth": 0,
              "ticks": ""
             }
            },
            "marker": {
             "colorbar": {
              "outlinewidth": 0,
              "ticks": ""
             }
            },
            "type": "scatter3d"
           }
          ],
          "scattercarpet": [
           {
            "marker": {
             "colorbar": {
              "outlinewidth": 0,
              "ticks": ""
             }
            },
            "type": "scattercarpet"
           }
          ],
          "scattergeo": [
           {
            "marker": {
             "colorbar": {
              "outlinewidth": 0,
              "ticks": ""
             }
            },
            "type": "scattergeo"
           }
          ],
          "scattergl": [
           {
            "marker": {
             "colorbar": {
              "outlinewidth": 0,
              "ticks": ""
             }
            },
            "type": "scattergl"
           }
          ],
          "scattermap": [
           {
            "marker": {
             "colorbar": {
              "outlinewidth": 0,
              "ticks": ""
             }
            },
            "type": "scattermap"
           }
          ],
          "scattermapbox": [
           {
            "marker": {
             "colorbar": {
              "outlinewidth": 0,
              "ticks": ""
             }
            },
            "type": "scattermapbox"
           }
          ],
          "scatterpolar": [
           {
            "marker": {
             "colorbar": {
              "outlinewidth": 0,
              "ticks": ""
             }
            },
            "type": "scatterpolar"
           }
          ],
          "scatterpolargl": [
           {
            "marker": {
             "colorbar": {
              "outlinewidth": 0,
              "ticks": ""
             }
            },
            "type": "scatterpolargl"
           }
          ],
          "scatterternary": [
           {
            "marker": {
             "colorbar": {
              "outlinewidth": 0,
              "ticks": ""
             }
            },
            "type": "scatterternary"
           }
          ],
          "surface": [
           {
            "colorbar": {
             "outlinewidth": 0,
             "ticks": ""
            },
            "colorscale": [
             [
              0,
              "#0d0887"
             ],
             [
              0.1111111111111111,
              "#46039f"
             ],
             [
              0.2222222222222222,
              "#7201a8"
             ],
             [
              0.3333333333333333,
              "#9c179e"
             ],
             [
              0.4444444444444444,
              "#bd3786"
             ],
             [
              0.5555555555555556,
              "#d8576b"
             ],
             [
              0.6666666666666666,
              "#ed7953"
             ],
             [
              0.7777777777777778,
              "#fb9f3a"
             ],
             [
              0.8888888888888888,
              "#fdca26"
             ],
             [
              1,
              "#f0f921"
             ]
            ],
            "type": "surface"
           }
          ],
          "table": [
           {
            "cells": {
             "fill": {
              "color": "#EBF0F8"
             },
             "line": {
              "color": "white"
             }
            },
            "header": {
             "fill": {
              "color": "#C8D4E3"
             },
             "line": {
              "color": "white"
             }
            },
            "type": "table"
           }
          ]
         },
         "layout": {
          "annotationdefaults": {
           "arrowcolor": "#2a3f5f",
           "arrowhead": 0,
           "arrowwidth": 1
          },
          "autotypenumbers": "strict",
          "coloraxis": {
           "colorbar": {
            "outlinewidth": 0,
            "ticks": ""
           }
          },
          "colorscale": {
           "diverging": [
            [
             0,
             "#8e0152"
            ],
            [
             0.1,
             "#c51b7d"
            ],
            [
             0.2,
             "#de77ae"
            ],
            [
             0.3,
             "#f1b6da"
            ],
            [
             0.4,
             "#fde0ef"
            ],
            [
             0.5,
             "#f7f7f7"
            ],
            [
             0.6,
             "#e6f5d0"
            ],
            [
             0.7,
             "#b8e186"
            ],
            [
             0.8,
             "#7fbc41"
            ],
            [
             0.9,
             "#4d9221"
            ],
            [
             1,
             "#276419"
            ]
           ],
           "sequential": [
            [
             0,
             "#0d0887"
            ],
            [
             0.1111111111111111,
             "#46039f"
            ],
            [
             0.2222222222222222,
             "#7201a8"
            ],
            [
             0.3333333333333333,
             "#9c179e"
            ],
            [
             0.4444444444444444,
             "#bd3786"
            ],
            [
             0.5555555555555556,
             "#d8576b"
            ],
            [
             0.6666666666666666,
             "#ed7953"
            ],
            [
             0.7777777777777778,
             "#fb9f3a"
            ],
            [
             0.8888888888888888,
             "#fdca26"
            ],
            [
             1,
             "#f0f921"
            ]
           ],
           "sequentialminus": [
            [
             0,
             "#0d0887"
            ],
            [
             0.1111111111111111,
             "#46039f"
            ],
            [
             0.2222222222222222,
             "#7201a8"
            ],
            [
             0.3333333333333333,
             "#9c179e"
            ],
            [
             0.4444444444444444,
             "#bd3786"
            ],
            [
             0.5555555555555556,
             "#d8576b"
            ],
            [
             0.6666666666666666,
             "#ed7953"
            ],
            [
             0.7777777777777778,
             "#fb9f3a"
            ],
            [
             0.8888888888888888,
             "#fdca26"
            ],
            [
             1,
             "#f0f921"
            ]
           ]
          },
          "colorway": [
           "#636efa",
           "#EF553B",
           "#00cc96",
           "#ab63fa",
           "#FFA15A",
           "#19d3f3",
           "#FF6692",
           "#B6E880",
           "#FF97FF",
           "#FECB52"
          ],
          "font": {
           "color": "#2a3f5f"
          },
          "geo": {
           "bgcolor": "white",
           "lakecolor": "white",
           "landcolor": "#E5ECF6",
           "showlakes": true,
           "showland": true,
           "subunitcolor": "white"
          },
          "hoverlabel": {
           "align": "left"
          },
          "hovermode": "closest",
          "mapbox": {
           "style": "light"
          },
          "paper_bgcolor": "white",
          "plot_bgcolor": "#E5ECF6",
          "polar": {
           "angularaxis": {
            "gridcolor": "white",
            "linecolor": "white",
            "ticks": ""
           },
           "bgcolor": "#E5ECF6",
           "radialaxis": {
            "gridcolor": "white",
            "linecolor": "white",
            "ticks": ""
           }
          },
          "scene": {
           "xaxis": {
            "backgroundcolor": "#E5ECF6",
            "gridcolor": "white",
            "gridwidth": 2,
            "linecolor": "white",
            "showbackground": true,
            "ticks": "",
            "zerolinecolor": "white"
           },
           "yaxis": {
            "backgroundcolor": "#E5ECF6",
            "gridcolor": "white",
            "gridwidth": 2,
            "linecolor": "white",
            "showbackground": true,
            "ticks": "",
            "zerolinecolor": "white"
           },
           "zaxis": {
            "backgroundcolor": "#E5ECF6",
            "gridcolor": "white",
            "gridwidth": 2,
            "linecolor": "white",
            "showbackground": true,
            "ticks": "",
            "zerolinecolor": "white"
           }
          },
          "shapedefaults": {
           "line": {
            "color": "#2a3f5f"
           }
          },
          "ternary": {
           "aaxis": {
            "gridcolor": "white",
            "linecolor": "white",
            "ticks": ""
           },
           "baxis": {
            "gridcolor": "white",
            "linecolor": "white",
            "ticks": ""
           },
           "bgcolor": "#E5ECF6",
           "caxis": {
            "gridcolor": "white",
            "linecolor": "white",
            "ticks": ""
           }
          },
          "title": {
           "x": 0.05
          },
          "xaxis": {
           "automargin": true,
           "gridcolor": "white",
           "linecolor": "white",
           "ticks": "",
           "title": {
            "standoff": 15
           },
           "zerolinecolor": "white",
           "zerolinewidth": 2
          },
          "yaxis": {
           "automargin": true,
           "gridcolor": "white",
           "linecolor": "white",
           "ticks": "",
           "title": {
            "standoff": 15
           },
           "zerolinecolor": "white",
           "zerolinewidth": 2
          }
         }
        },
        "title": {
         "text": "Total Cost vs Total KWh per Rate Code"
        },
        "width": 800,
        "xaxis": {
         "anchor": "y",
         "domain": [
          0,
          1
         ],
         "title": {
          "text": "Total kWh"
         }
        },
        "yaxis": {
         "anchor": "x",
         "domain": [
          0,
          1
         ],
         "title": {
          "text": "Total Cost"
         }
        }
       }
      }
     },
     "metadata": {},
     "output_type": "display_data"
    }
   ],
   "source": [
    "# Create scatter plot with OLS trendlines per address (Name)\n",
    "big_site_df['Rate Code'] = big_site_df['Name'].map(rate_code_mapping)\n",
    "fig = px.scatter(\n",
    "    big_site_df,\n",
    "    x='Total kWh',\n",
    "    y='Total',\n",
    "    color='Rate Code',\n",
    "    trendline='ols',\n",
    "    trendline_scope='trace',\n",
    "    labels={\n",
    "        # 'Total KWh': 'Total kWh',\n",
    "        'Total': 'Total Cost',\n",
    "        # 'Name': 'Name'\n",
    "    },\n",
    "    title='Total Cost vs Total KWh per Rate Code',\n",
    "    height= 600,\n",
    "    width= 800\n",
    ")\n",
    "fig.show()\n",
    "\n",
    "rate_code_formulas = get_trendline_df('Rate Code',fig)"
   ]
  },
  {
   "cell_type": "code",
   "execution_count": 6,
   "id": "54c5deae",
   "metadata": {},
   "outputs": [
    {
     "data": {
      "text/html": [
       "<div>\n",
       "<style scoped>\n",
       "    .dataframe tbody tr th:only-of-type {\n",
       "        vertical-align: middle;\n",
       "    }\n",
       "\n",
       "    .dataframe tbody tr th {\n",
       "        vertical-align: top;\n",
       "    }\n",
       "\n",
       "    .dataframe thead th {\n",
       "        text-align: right;\n",
       "    }\n",
       "</style>\n",
       "<table border=\"1\" class=\"dataframe\">\n",
       "  <thead>\n",
       "    <tr style=\"text-align: right;\">\n",
       "      <th></th>\n",
       "      <th>Rate Code</th>\n",
       "      <th>Slope</th>\n",
       "      <th>Intercept</th>\n",
       "      <th>Formula</th>\n",
       "      <th>R-squared</th>\n",
       "    </tr>\n",
       "  </thead>\n",
       "  <tbody>\n",
       "    <tr>\n",
       "      <th>0</th>\n",
       "      <td>D200</td>\n",
       "      <td>0.125676</td>\n",
       "      <td>57.596387</td>\n",
       "      <td>y = 0.1257·x + 57.5964</td>\n",
       "      <td>0.993307</td>\n",
       "    </tr>\n",
       "    <tr>\n",
       "      <th>1</th>\n",
       "      <td>D300</td>\n",
       "      <td>0.123478</td>\n",
       "      <td>403.275106</td>\n",
       "      <td>y = 0.1235·x + 403.2751</td>\n",
       "      <td>0.958736</td>\n",
       "    </tr>\n",
       "  </tbody>\n",
       "</table>\n",
       "</div>"
      ],
      "text/plain": [
       "  Rate Code     Slope   Intercept                  Formula  R-squared\n",
       "0      D200  0.125676   57.596387   y = 0.1257·x + 57.5964   0.993307\n",
       "1      D300  0.123478  403.275106  y = 0.1235·x + 403.2751   0.958736"
      ]
     },
     "execution_count": 6,
     "metadata": {},
     "output_type": "execute_result"
    }
   ],
   "source": [
    "rate_code_formulas"
   ]
  },
  {
   "cell_type": "code",
   "execution_count": 7,
   "id": "91c48ee8",
   "metadata": {},
   "outputs": [
    {
     "ename": "NameError",
     "evalue": "name 'model' is not defined",
     "output_type": "error",
     "traceback": [
      "\u001b[31m---------------------------------------------------------------------------\u001b[39m",
      "\u001b[31mNameError\u001b[39m                                 Traceback (most recent call last)",
      "\u001b[36mCell\u001b[39m\u001b[36m \u001b[39m\u001b[32mIn[7]\u001b[39m\u001b[32m, line 1\u001b[39m\n\u001b[32m----> \u001b[39m\u001b[32m1\u001b[39m \u001b[43mmodel\u001b[49m.rsquared\n",
      "\u001b[31mNameError\u001b[39m: name 'model' is not defined"
     ]
    }
   ],
   "source": [
    "model.rsquared"
   ]
  }
 ],
 "metadata": {
  "kernelspec": {
   "display_name": ".venv",
   "language": "python",
   "name": "python3"
  },
  "language_info": {
   "codemirror_mode": {
    "name": "ipython",
    "version": 3
   },
   "file_extension": ".py",
   "mimetype": "text/x-python",
   "name": "python",
   "nbconvert_exporter": "python",
   "pygments_lexer": "ipython3",
   "version": "3.12.4"
  }
 },
 "nbformat": 4,
 "nbformat_minor": 5
}
