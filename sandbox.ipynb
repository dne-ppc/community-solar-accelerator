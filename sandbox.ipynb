{
 "cells": [
  {
   "cell_type": "code",
   "execution_count": 1,
   "id": "45cf5dcd",
   "metadata": {},
   "outputs": [],
   "source": [
    "%load_ext autoreload\n",
    "%autoreload 2"
   ]
  },
  {
   "cell_type": "code",
   "execution_count": null,
   "id": "4649a5f3",
   "metadata": {},
   "outputs": [],
   "source": []
  },
  {
   "cell_type": "code",
   "execution_count": 8,
   "id": "799c52a6",
   "metadata": {},
   "outputs": [],
   "source": [
    "%reload_ext autoreload\n",
    "from financials import ProjectFinancialModel\n",
    "from models import ModelInput\n",
    "import numpy as np\n",
    "import pandas as pd\n",
    "\n",
    "import yaml\n",
    "\n",
    "model = ProjectFinancialModel(scenario='Base',years=25,iterations=1000,dividend_start_year=3,capital_return_year=4)\n",
    "self = model\n"
   ]
  },
  {
   "cell_type": "code",
   "execution_count": 17,
   "id": "4fe24544",
   "metadata": {},
   "outputs": [
    {
     "data": {
      "text/html": [
       "<div>\n",
       "<style scoped>\n",
       "    .dataframe tbody tr th:only-of-type {\n",
       "        vertical-align: middle;\n",
       "    }\n",
       "\n",
       "    .dataframe tbody tr th {\n",
       "        vertical-align: top;\n",
       "    }\n",
       "\n",
       "    .dataframe thead th {\n",
       "        text-align: right;\n",
       "    }\n",
       "</style>\n",
       "<table border=\"1\" class=\"dataframe\">\n",
       "  <thead>\n",
       "    <tr style=\"text-align: right;\">\n",
       "      <th></th>\n",
       "      <th>p10</th>\n",
       "      <th>p50</th>\n",
       "      <th>p90</th>\n",
       "      <th>units</th>\n",
       "      <th>description</th>\n",
       "    </tr>\n",
       "  </thead>\n",
       "  <tbody>\n",
       "    <tr>\n",
       "      <th>panel_power</th>\n",
       "      <td>350</td>\n",
       "      <td>400</td>\n",
       "      <td>450</td>\n",
       "      <td>W</td>\n",
       "      <td>The power rating of each solar panel in watts....</td>\n",
       "    </tr>\n",
       "    <tr>\n",
       "      <th>number_of_panels</th>\n",
       "      <td>100</td>\n",
       "      <td>300</td>\n",
       "      <td>2000</td>\n",
       "      <td>#</td>\n",
       "      <td>The total number of solar panels in the instal...</td>\n",
       "    </tr>\n",
       "    <tr>\n",
       "      <th>capacity_factor</th>\n",
       "      <td>14.0</td>\n",
       "      <td>18.0</td>\n",
       "      <td>21.0</td>\n",
       "      <td>%</td>\n",
       "      <td>The percentage of time the solar panels are pr...</td>\n",
       "    </tr>\n",
       "    <tr>\n",
       "      <th>degradation_rate</th>\n",
       "      <td>0.3</td>\n",
       "      <td>0.5</td>\n",
       "      <td>0.7</td>\n",
       "      <td>%</td>\n",
       "      <td>The annual decrease in the efficiency of solar...</td>\n",
       "    </tr>\n",
       "    <tr>\n",
       "      <th>install_cost</th>\n",
       "      <td>2.5</td>\n",
       "      <td>3</td>\n",
       "      <td>3.5</td>\n",
       "      <td>CAD/W</td>\n",
       "      <td>The cost of installing the solar panels per wa...</td>\n",
       "    </tr>\n",
       "    <tr>\n",
       "      <th>public_funding_percent</th>\n",
       "      <td>10.0</td>\n",
       "      <td>20.0</td>\n",
       "      <td>30.0</td>\n",
       "      <td>%</td>\n",
       "      <td>The percentage of the total project cost that ...</td>\n",
       "    </tr>\n",
       "    <tr>\n",
       "      <th>funding_buffer_percent</th>\n",
       "      <td>5.0</td>\n",
       "      <td>10.0</td>\n",
       "      <td>15.0</td>\n",
       "      <td>%</td>\n",
       "      <td>The percentage of the total project cost set a...</td>\n",
       "    </tr>\n",
       "    <tr>\n",
       "      <th>electricity_price</th>\n",
       "      <td>0.08</td>\n",
       "      <td>0.1</td>\n",
       "      <td>0.12</td>\n",
       "      <td>CAD/kWh</td>\n",
       "      <td>The price of electricity per kilowatt-hour. Th...</td>\n",
       "    </tr>\n",
       "    <tr>\n",
       "      <th>inflation_rate</th>\n",
       "      <td>1.0</td>\n",
       "      <td>2.0</td>\n",
       "      <td>3.0</td>\n",
       "      <td>%</td>\n",
       "      <td>The expected rate of inflation over the projec...</td>\n",
       "    </tr>\n",
       "    <tr>\n",
       "      <th>discount_rate</th>\n",
       "      <td>3.0</td>\n",
       "      <td>4.0</td>\n",
       "      <td>6.0</td>\n",
       "      <td>%</td>\n",
       "      <td>The discount rate used for calculating the pre...</td>\n",
       "    </tr>\n",
       "    <tr>\n",
       "      <th>maintenance_rate</th>\n",
       "      <td>0.3</td>\n",
       "      <td>0.5</td>\n",
       "      <td>0.7</td>\n",
       "      <td>%</td>\n",
       "      <td>The annual maintenance costs as a percentage o...</td>\n",
       "    </tr>\n",
       "    <tr>\n",
       "      <th>admin_rate</th>\n",
       "      <td>0.3</td>\n",
       "      <td>0.5</td>\n",
       "      <td>0.7</td>\n",
       "      <td>%</td>\n",
       "      <td>The amount of administrative costs for the pro...</td>\n",
       "    </tr>\n",
       "    <tr>\n",
       "      <th>insurance_rate</th>\n",
       "      <td>0.3</td>\n",
       "      <td>0.5</td>\n",
       "      <td>0.7</td>\n",
       "      <td>%</td>\n",
       "      <td>The cost of insurance for the solar project as...</td>\n",
       "    </tr>\n",
       "    <tr>\n",
       "      <th>capital_return_rate</th>\n",
       "      <td>6.0</td>\n",
       "      <td>7.0</td>\n",
       "      <td>10.0</td>\n",
       "      <td>%</td>\n",
       "      <td>The specified return on investment for the cap...</td>\n",
       "    </tr>\n",
       "  </tbody>\n",
       "</table>\n",
       "</div>"
      ],
      "text/plain": [
       "                         p10   p50   p90    units  \\\n",
       "panel_power              350   400   450        W   \n",
       "number_of_panels         100   300  2000        #   \n",
       "capacity_factor         14.0  18.0  21.0        %   \n",
       "degradation_rate         0.3   0.5   0.7        %   \n",
       "install_cost             2.5     3   3.5    CAD/W   \n",
       "public_funding_percent  10.0  20.0  30.0        %   \n",
       "funding_buffer_percent   5.0  10.0  15.0        %   \n",
       "electricity_price       0.08   0.1  0.12  CAD/kWh   \n",
       "inflation_rate           1.0   2.0   3.0        %   \n",
       "discount_rate            3.0   4.0   6.0        %   \n",
       "maintenance_rate         0.3   0.5   0.7        %   \n",
       "admin_rate               0.3   0.5   0.7        %   \n",
       "insurance_rate           0.3   0.5   0.7        %   \n",
       "capital_return_rate      6.0   7.0  10.0        %   \n",
       "\n",
       "                                                              description  \n",
       "panel_power             The power rating of each solar panel in watts....  \n",
       "number_of_panels        The total number of solar panels in the instal...  \n",
       "capacity_factor         The percentage of time the solar panels are pr...  \n",
       "degradation_rate        The annual decrease in the efficiency of solar...  \n",
       "install_cost            The cost of installing the solar panels per wa...  \n",
       "public_funding_percent  The percentage of the total project cost that ...  \n",
       "funding_buffer_percent  The percentage of the total project cost set a...  \n",
       "electricity_price       The price of electricity per kilowatt-hour. Th...  \n",
       "inflation_rate          The expected rate of inflation over the projec...  \n",
       "discount_rate           The discount rate used for calculating the pre...  \n",
       "maintenance_rate        The annual maintenance costs as a percentage o...  \n",
       "admin_rate              The amount of administrative costs for the pro...  \n",
       "insurance_rate          The cost of insurance for the solar project as...  \n",
       "capital_return_rate     The specified return on investment for the cap...  "
      ]
     },
     "execution_count": 17,
     "metadata": {},
     "output_type": "execute_result"
    }
   ],
   "source": [
    "self.model_assumptions"
   ]
  },
  {
   "cell_type": "code",
   "execution_count": 23,
   "id": "dd14e950",
   "metadata": {},
   "outputs": [
    {
     "data": {
      "text/plain": [
       "array([16944.40321882, 17864.7527231 , 51492.87929404, 61862.52632658,\n",
       "       61925.99230022])"
      ]
     },
     "execution_count": 23,
     "metadata": {},
     "output_type": "execute_result"
    }
   ],
   "source": [
    "np.percentile(self.seed_capital,[0.0,0.1,0.5,0.9,1.0])"
   ]
  },
  {
   "cell_type": "code",
   "execution_count": 6,
   "id": "b7ec9d46",
   "metadata": {},
   "outputs": [
    {
     "data": {
      "text/plain": [
       "array([ 9797.5174272 , 27625.203055  , 31977.76629423])"
      ]
     },
     "execution_count": 6,
     "metadata": {},
     "output_type": "execute_result"
    }
   ],
   "source": [
    "np.percentile(self.system_output,[0.1,0.5,0.9])"
   ]
  },
  {
   "cell_type": "code",
   "execution_count": 7,
   "id": "0dde4e60",
   "metadata": {},
   "outputs": [
    {
     "ename": "SyntaxError",
     "evalue": "'return' outside function (2305073287.py, line 7)",
     "output_type": "error",
     "traceback": [
      "  \u001b[36mCell\u001b[39m\u001b[36m \u001b[39m\u001b[32mIn[7]\u001b[39m\u001b[32m, line 7\u001b[39m\n\u001b[31m    \u001b[39m\u001b[31mreturn payments\u001b[39m\n    ^\n\u001b[31mSyntaxError\u001b[39m\u001b[31m:\u001b[39m 'return' outside function\n"
     ]
    }
   ],
   "source": [
    "\n",
    "repayment_amount = self.private_investment / (self.return_period - self.capital_return_year)\n",
    "payments = np.zeros((self.iterations,self.years))\n",
    "\n",
    "for year in range(0,self.years):\n",
    "    if year >= self.capital_return_year and year < self.return_period:\n",
    "        payments[:,year] = repayment_amount[:,0]\n",
    "return payments"
   ]
  },
  {
   "cell_type": "code",
   "execution_count": null,
   "id": "89e18781",
   "metadata": {},
   "outputs": [
    {
     "ename": "TypeError",
     "evalue": "'int' object is not iterable",
     "output_type": "error",
     "traceback": [
      "\u001b[31m---------------------------------------------------------------------------\u001b[39m\n",
      "\u001b[31mTypeError\u001b[39m                                 Traceback (most recent call last)\n",
      "\u001b[36mCell\u001b[39m\u001b[36m \u001b[39m\u001b[32mIn[67]\u001b[39m\u001b[32m, line 14\u001b[39m\n",
      "\u001b[32m      3\u001b[39m metalog\n",
      "\u001b[32m      6\u001b[39m dist = metalog.fit(\n",
      "\u001b[32m      7\u001b[39m     x=[\u001b[32m3\u001b[39m, \u001b[32m5\u001b[39m, \u001b[32m10\u001b[39m],\n",
      "\u001b[32m      8\u001b[39m     boundedness=\u001b[33m\"\u001b[39m\u001b[33mb\u001b[39m\u001b[33m\"\u001b[39m,\n",
      "\u001b[32m   (...)\u001b[39m\u001b[32m     11\u001b[39m     probs=[\u001b[32m0.1\u001b[39m, \u001b[32m0.5\u001b[39m, \u001b[32m0.9\u001b[39m],\n",
      "\u001b[32m     12\u001b[39m )\n",
      "\u001b[32m---> \u001b[39m\u001b[32m14\u001b[39m \u001b[43mmetalog\u001b[49m\u001b[43m.\u001b[49m\u001b[43md\u001b[49m\u001b[43m(\u001b[49m\u001b[43mdist\u001b[49m\u001b[43m,\u001b[49m\u001b[32;43m10\u001b[39;49m\u001b[43m)\u001b[49m\n",
      "\n",
      "\u001b[36mFile \u001b[39m\u001b[32m~/Documents/portfolio/accelerator/.venv/lib/python3.12/site-packages/metalog/metalog.py:368\u001b[39m, in \u001b[36md\u001b[39m\u001b[34m(m, q, term)\u001b[39m\n",
      "\u001b[32m    365\u001b[39m \u001b[38;5;28;01mif\u001b[39;00m (\u001b[38;5;28mtype\u001b[39m(term) != \u001b[38;5;28mint\u001b[39m) \u001b[38;5;129;01mor\u001b[39;00m (term < \u001b[32m2\u001b[39m) \u001b[38;5;129;01mor\u001b[39;00m (term % \u001b[32m1\u001b[39m != \u001b[32m0\u001b[39m) \u001b[38;5;129;01mor\u001b[39;00m (term \u001b[38;5;129;01mnot\u001b[39;00m \u001b[38;5;129;01min\u001b[39;00m valid_terms):\n",
      "\u001b[32m    366\u001b[39m     \u001b[38;5;28;01mraise\u001b[39;00m \u001b[38;5;167;01mException\u001b[39;00m(\u001b[33m\"\u001b[39m\u001b[33mError: term must be a single positive integer contained in the metalog object. Available terms are: \u001b[39m\u001b[33m\"\u001b[39m + valid_terms_printout)\n",
      "\u001b[32m--> \u001b[39m\u001b[32m368\u001b[39m \u001b[38;5;28;01mif\u001b[39;00m \u001b[38;5;129;01mnot\u001b[39;00m \u001b[38;5;28mall\u001b[39m\u001b[43m(\u001b[49m\u001b[38;5;28;43misinstance\u001b[39;49m\u001b[43m(\u001b[49m\u001b[43mb\u001b[49m\u001b[43m,\u001b[49m\u001b[43m \u001b[49m\u001b[43m(\u001b[49m\u001b[38;5;28;43mint\u001b[39;49m\u001b[43m,\u001b[49m\u001b[43m \u001b[49m\u001b[38;5;28;43mfloat\u001b[39;49m\u001b[43m,\u001b[49m\u001b[43m \u001b[49m\u001b[43mnp\u001b[49m\u001b[43m.\u001b[49m\u001b[43mint_\u001b[49m\u001b[43m,\u001b[49m\u001b[43m \u001b[49m\u001b[43mnp\u001b[49m\u001b[43m.\u001b[49m\u001b[43mfloat_\u001b[49m\u001b[43m)\u001b[49m\u001b[43m)\u001b[49m\u001b[43m \u001b[49m\u001b[38;5;28;43;01mfor\u001b[39;49;00m\u001b[43m \u001b[49m\u001b[43mb\u001b[49m\u001b[43m \u001b[49m\u001b[38;5;129;43;01min\u001b[39;49;00m\u001b[43m \u001b[49m\u001b[43mq\u001b[49m\u001b[43m)\u001b[49m:\n",
      "\u001b[32m    369\u001b[39m     \u001b[38;5;28;01mraise\u001b[39;00m \u001b[38;5;167;01mException\u001b[39;00m(\u001b[33m\"\u001b[39m\u001b[33mError: \u001b[39m\u001b[33m'\u001b[39m\u001b[33mq\u001b[39m\u001b[33m'\u001b[39m\u001b[33m must be a numeric vector of \u001b[39m\u001b[33m'\u001b[39m\u001b[33mnumpy.ndarray\u001b[39m\u001b[33m'\u001b[39m\u001b[33m-type\u001b[39m\u001b[33m\"\u001b[39m)\n",
      "\u001b[32m    371\u001b[39m qs = np.array([support_func.newtons_method_metalog(m, q[i], term) \u001b[38;5;28;01mfor\u001b[39;00m i \u001b[38;5;129;01min\u001b[39;00m \u001b[38;5;28mrange\u001b[39m(\u001b[38;5;28mlen\u001b[39m(q))])\n",
      "\n",
      "\u001b[31mTypeError\u001b[39m: 'int' object is not iterable"
     ]
    }
   ],
   "source": [
    "from metalog import metalog\n",
    "\n",
    "metalog\n",
    "\n",
    "\n",
    "dist = metalog.fit(\n",
    "    x=[3, 5, 10],\n",
    "    boundedness=\"b\",\n",
    "    bounds=[0, 25],\n",
    "    term_limit=3,\n",
    "    probs=[0.1, 0.5, 0.9],\n",
    ")\n",
    "\n",
    "metalog.d(dist,10)"
   ]
  }
 ],
 "metadata": {
  "kernelspec": {
   "display_name": ".venv",
   "language": "python",
   "name": "python3"
  },
  "language_info": {
   "codemirror_mode": {
    "name": "ipython",
    "version": 3
   },
   "file_extension": ".py",
   "mimetype": "text/x-python",
   "name": "python",
   "nbconvert_exporter": "python",
   "pygments_lexer": "ipython3",
   "version": "3.12.4"
  }
 },
 "nbformat": 4,
 "nbformat_minor": 5
}
