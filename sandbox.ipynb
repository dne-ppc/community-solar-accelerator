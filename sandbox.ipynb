{
 "cells": [
  {
   "cell_type": "code",
   "execution_count": 1,
   "id": "45cf5dcd",
   "metadata": {},
   "outputs": [],
   "source": [
    "%load_ext autoreload\n",
    "%autoreload 2"
   ]
  },
  {
   "cell_type": "code",
   "execution_count": 6,
   "id": "799c52a6",
   "metadata": {},
   "outputs": [
    {
     "data": {
      "text/plain": [
       "array([[0.]])"
      ]
     },
     "execution_count": 6,
     "metadata": {},
     "output_type": "execute_result"
    }
   ],
   "source": [
    "%reload_ext autoreload\n",
    "# from typing import List, Dict, Any, Optional\n",
    "# from models.portfolio import CommunityPortfolio\n",
    "# from models.core.types import Input,Output\n",
    "# from models.financial import FinancialModel\n",
    "# from models.mixin import CommonModelMixin\n",
    "# from pydantic import BaseModel, Field, computed_field\n",
    "\n",
    "# import numpy as np\n",
    "# import pandas as pd\n",
    "# import itertools\n",
    "# import yaml\n",
    "\n",
    "from models.projects.solar import SolarProject\n",
    "\n",
    "\n",
    "m = SolarProject.load_model(\"inputs/Bowen.yaml\", iterations=1000, years=25)\n",
    "m.capex.data"
   ]
  }
 ],
 "metadata": {
  "kernelspec": {
   "display_name": ".venv",
   "language": "python",
   "name": "python3"
  },
  "language_info": {
   "codemirror_mode": {
    "name": "ipython",
    "version": 3
   },
   "file_extension": ".py",
   "mimetype": "text/x-python",
   "name": "python",
   "nbconvert_exporter": "python",
   "pygments_lexer": "ipython3",
   "version": "3.12.4"
  }
 },
 "nbformat": 4,
 "nbformat_minor": 5
}
